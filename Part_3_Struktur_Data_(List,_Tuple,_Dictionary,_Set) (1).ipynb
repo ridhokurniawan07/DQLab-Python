{
  "cells": [
    {
      "cell_type": "markdown",
      "metadata": {
        "id": "GgjwWAS2eFI1"
      },
      "source": [
        "# STRUKTUR DATA: `List, Tuple, Set, & Dictionary`"
      ]
    },
    {
      "cell_type": "markdown",
      "metadata": {
        "id": "jLgx8o0UpJZ9"
      },
      "source": [
        "## `List`\n",
        "> `List` adalah sebuah objek kelas dalam Python yang berupa sebuah koleksi/kontainer berisi objek bertipe rangkaian (*sequence*), sehingga seringkali dirujuk sebagai *containers* atau *collections*.\n",
        "\n",
        "`List`, yang merupakan sebuah objek kelas fundamental, memiliki seperangkat fitur yang memungkinkan pengelolaan sekaligus manipulasi beragam tipe data secara efisien. Sebuah `list` akan memiliki beberapa karakteristik sebagai berikut:\n",
        "1. ***Ordered***: Urutan setiap elemen pada sebuah list akan sesuai dengan urutan penginputan masing-masing elemen;\n",
        "2. ***Zero-based***: Indeks posisional dari setiap elemen pada sebuah `list` akan dimulai dari indeks 0;\n",
        "3. ***Mutable***: Memungkinkan untuk melakukan perubahan (*mutations*) terhadap elemen yang ada didalamnya;\n",
        "4. ***Heterogeneous***: Dapat memuat objek dengan tipe yang bermacam-macam (`int`, `float`, `str`, `list`, `tuple`, `dictionary`, `set`, & bahkan `function`);\n",
        "5. ***Growable & Dynamic***: Memungkinkan untuk melakukan penambahan, penginputan, dan penghapusan elemen;\n",
        "6. ***Nestable***: Dapat memuat `list` lain di dalamnya;\n",
        "7. ***Iterable***: Memungkinkan untuk dilakukan iterasi terhadap setiap elemen di dalamnya dengan menggunakan `loop` atau `list comprehension`;\n",
        "8. ***Sliceable***: Memungkinkan untuk melakukan operasi *slicing* untuk mengakses elemennya;\n",
        "9. ***Combinable***: Memungkinkan untuk melakukan proses *concatenation* terhadap satu `list` dengan `list` lain;\n",
        "10. ***copyable***: Memungkinkan untuk membuat duplikat dari `list` ke dalam sebuah `list` yang lain."
      ]
    },
    {
      "cell_type": "markdown",
      "metadata": {
        "id": "ZZAawgepzHOn"
      },
      "source": [
        "### `List` Construction\n",
        "Terdapat tiga cara untuk membangun sebuah `list`:\n",
        "1. Menggunakan `list literals`:\n",
        "```python\n",
        "nama_list = [] # Membuat list kosong\n",
        "nama_list = [elemen_1, elemen_2, ..., elemen_n]\n",
        "```\n",
        "2. Menggunakan `type constructor`:\n",
        "```python\n",
        "nama_list = list() # Membuat list kosong\n",
        "nama_list = list(iterable)\n",
        "```\n",
        "3. Menggunakan `list comprehension`:\n",
        "```python\n",
        "nama_list = [expression(item) for item in iterable if conditional]\n",
        "```"
      ]
    },
    {
      "cell_type": "code",
      "execution_count": 1,
      "metadata": {
        "id": "mgBwIe3LL6Wu",
        "colab": {
          "base_uri": "https://localhost:8080/"
        },
        "outputId": "0ee86994-479c-4b0a-bb23-4495779b3890"
      },
      "outputs": [
        {
          "output_type": "stream",
          "name": "stdout",
          "text": [
            "['Amir', 'Budi', 'Cinta', 'Dimas', 'Edi']\n"
          ]
        }
      ],
      "source": [
        "# Membuat sebuah list berisi nama-nama teman menggunakan list literals\n",
        "\n",
        "nama_teman = ['Amir', 'Budi', 'Cinta', 'Dimas', 'Edi']\n",
        "print(nama_teman)"
      ]
    },
    {
      "cell_type": "code",
      "execution_count": 2,
      "metadata": {
        "id": "sqhcRBe51s3R",
        "colab": {
          "base_uri": "https://localhost:8080/"
        },
        "outputId": "055ab110-5699-4677-cb65-552cee4fcf07"
      },
      "outputs": [
        {
          "output_type": "stream",
          "name": "stdout",
          "text": [
            "[0, 1, 2, 3, 4, 5, 6, 7, 8, 9]\n"
          ]
        }
      ],
      "source": [
        "# Membuat sebuah list berisi angka 0-9 dengan menggunakan list() constructors\n",
        "\n",
        "angka = list(range(0, 10, 1))\n",
        "print(angka)"
      ]
    },
    {
      "cell_type": "code",
      "execution_count": 3,
      "metadata": {
        "id": "hB3zThcOgl_T",
        "colab": {
          "base_uri": "https://localhost:8080/"
        },
        "outputId": "0d2c1f4a-c1b5-48c3-f984-3216a48ba66f"
      },
      "outputs": [
        {
          "output_type": "stream",
          "name": "stdout",
          "text": [
            "[1, 3, 5, 7, 9]\n"
          ]
        }
      ],
      "source": [
        "# Membuat sebuah list berisi angka ganjil dari list angka menggunakan list comprehension\n",
        "\n",
        "angka_ganjil = [num for num in angka if num % 2 == 1]\n",
        "print(angka_ganjil)"
      ]
    },
    {
      "cell_type": "code",
      "source": [
        "# Cara lain untuk membuat list berisi angka ganjil dengan menggunakan list comprehension???\n",
        "angka_ganjil_lain = [angka[x] for x in range(1, len(angka), 2)]\n",
        "print(angka_ganjil_lain)"
      ],
      "metadata": {
        "id": "4DwI-e8aAiiZ",
        "colab": {
          "base_uri": "https://localhost:8080/"
        },
        "outputId": "34946322-ca29-4519-d186-5c347f366ec1"
      },
      "execution_count": 4,
      "outputs": [
        {
          "output_type": "stream",
          "name": "stdout",
          "text": [
            "[1, 3, 5, 7, 9]\n"
          ]
        }
      ]
    },
    {
      "cell_type": "code",
      "source": [
        "# CHALLENGE: Ada cara lain untuk menyusun list berisi angka ganjil pada range 0-10 secara lebih sederhana??\n",
        "# HINT: lakukan slicing dengan step\n",
        "angka[1::2]"
      ],
      "metadata": {
        "id": "AJH_yW_Chh68",
        "colab": {
          "base_uri": "https://localhost:8080/"
        },
        "outputId": "748fa48b-0ede-4bc0-abb3-8622522c2922"
      },
      "execution_count": 5,
      "outputs": [
        {
          "output_type": "execute_result",
          "data": {
            "text/plain": [
              "[1, 3, 5, 7, 9]"
            ]
          },
          "metadata": {},
          "execution_count": 5
        }
      ]
    },
    {
      "cell_type": "markdown",
      "metadata": {
        "id": "JY-m2EiJ3cZQ"
      },
      "source": [
        "### Accessing elements of a `list`\n",
        "Beberapa operasi yang digunakan untuk mengakses elemen pada sebuah list antara lain:\n",
        "1. `indexing`, menghasilkan sebuah data yang merupakan elemen dari sebuah `list`. Sebagai ilustrasi, di bawah berikut dapat diamati cara untuk menampilkan angka 5 yang merupakan sebuah elemen pada `angka` yang kita buat pada exercise sebelumnya.\n",
        "```python\n",
        "angka[5] # dituliskan nomor index dari elemen 5\n",
        "# Output = 5\n",
        "```\n",
        "2. `slicing`, menghasilkan sebuah `list` berisi sebuah atau beberapa elemen dari sebuah `list` lainnya. Sebagai ilustrasi, di bawah berikut dapat diamati cara mengambil angka 1, 2, 3 yang merupakan elemen pada `angka`.\n",
        "```python\n",
        "angka[1:4:1] # dituliskan index awal, index akhir+1, dan step\n",
        "# Output = [1, 2, 3]\n",
        "```"
      ]
    },
    {
      "cell_type": "code",
      "execution_count": 6,
      "metadata": {
        "id": "KyWiAJmoUHit",
        "colab": {
          "base_uri": "https://localhost:8080/"
        },
        "outputId": "0b22c6cb-3a56-41b3-dedb-bb7bdca0887d"
      },
      "outputs": [
        {
          "output_type": "stream",
          "name": "stdout",
          "text": [
            "Nama pertama pada list adalah: Amir.\n",
            "Nama ke-2 pada list adalah: Budi.\n",
            "Nama terakhir pada list adalah: Edi.\n"
          ]
        }
      ],
      "source": [
        "# Memanggil elemen list menggunakan indexing\n",
        "\n",
        "print(\"Nama pertama pada list adalah: %s.\" % nama_teman[0])      # Mengakses elemen pertama pada list nama_teman\n",
        "print(\"Nama ke-%d pada list adalah: %s.\" % (1+1, nama_teman[1])) # Mengakses elemen kedua pada list nama_teman\n",
        "print(\"Nama terakhir pada list adalah: %s.\" % nama_teman[-1])    # Mengakses elemen paling akhir pada list nama_teman"
      ]
    },
    {
      "cell_type": "code",
      "execution_count": 7,
      "metadata": {
        "id": "0puQZOoG4HUQ",
        "colab": {
          "base_uri": "https://localhost:8080/"
        },
        "outputId": "a6869d44-9665-42df-b875-61f40a43e37f"
      },
      "outputs": [
        {
          "output_type": "stream",
          "name": "stdout",
          "text": [
            "['Amir', 'Budi']\n",
            "['Amir', 'Cinta', 'Edi']\n",
            "['Edi', 'Dimas', 'Cinta', 'Budi', 'Amir']\n"
          ]
        }
      ],
      "source": [
        "# Memanggil elemen list menggunakan slicing\n",
        "\n",
        "print(nama_teman[:2])   # Mengakses elemen pada nama_teman, dari elemen indeks 0 hingga elemen indeks 1\n",
        "print(nama_teman[::2])  # Mengakses seluruh elemen pada nama_teman yang bernomor indeks genap\n",
        "print(nama_teman[::-1]) # Mengakses seluruh elemen pada nama_teman, dari urutan paling akhir hingga ke awal"
      ]
    },
    {
      "cell_type": "code",
      "source": [
        "# CHALLENGE: Bagaimana cara slicing agar dapat menampilkan elemen ['Edi', 'Cinta'] dari nama_teman??\n",
        "print(nama_teman[-1:-4:-2])"
      ],
      "metadata": {
        "id": "7lwvjd5CnrOd",
        "colab": {
          "base_uri": "https://localhost:8080/"
        },
        "outputId": "f0559c7d-88fc-4ecd-ba9f-8c067f72450f"
      },
      "execution_count": 11,
      "outputs": [
        {
          "output_type": "stream",
          "name": "stdout",
          "text": [
            "['Edi', 'Cinta']\n"
          ]
        }
      ]
    },
    {
      "cell_type": "markdown",
      "metadata": {
        "id": "JZ705wgCIqn4"
      },
      "source": [
        "### Membuat copy dari sebuah `list`\n",
        "Operasi yang jarang dilakukan, akan tetapi, terkadang membuat duplikat dari sebuah `list` merupakan sebuah *good practice*, jika kita hendak melakukan pengolahan terhadap elemen dari `list` tersebut. Hal ini untuk memastikan bahwa data orijinal tidak mengalami perubahan, sehingga pada saat terjadi kesalahan dalam proses pengolahan, kita dapat melakukan *trace back* ke kondisi sebelumnya.\n",
        "\n",
        "Untuk membuat copy dari sebuah `list` kita dapat menggunakan method `copy` seperti dicontohkan berikut di bawah ini:\n",
        "```python\n",
        "# Membuat sebuah copy dari nama_teman\n",
        "nama_teman_copy = nama_teman.copy()\n",
        "```"
      ]
    },
    {
      "cell_type": "code",
      "execution_count": 12,
      "metadata": {
        "id": "vN7_O9egpw5e",
        "colab": {
          "base_uri": "https://localhost:8080/"
        },
        "outputId": "9791d4b2-6ec8-4009-e92e-3e348ed6568c"
      },
      "outputs": [
        {
          "output_type": "stream",
          "name": "stdout",
          "text": [
            "[1, 3, 5, 7, 9]\n",
            "['Amir', 'Budi', 'Cinta', 'Dimas', 'Edi']\n"
          ]
        }
      ],
      "source": [
        "# Membuat duplikat list angka ganjil\n",
        "angka_ganjil_copy = angka_ganjil.copy()\n",
        "print(angka_ganjil_copy)\n",
        "\n",
        "# Membuat duplikat nama_teman\n",
        "nama_teman_baru = nama_teman.copy()\n",
        "print(nama_teman_baru)"
      ]
    },
    {
      "cell_type": "code",
      "source": [
        "# CHALLENGE: Lakukan operasi pembagian terhadap elemen index 2 pada angka_ganjil_copy dengan angka 4!!\n",
        "angka_ganjil_copy[2] = angka_ganjil_copy[2] / 4\n",
        "\n",
        "# Cek hasil\n",
        "print(\"List orijinal:\", angka_ganjil)\n",
        "print(\"List olahan:\", angka_ganjil_copy)"
      ],
      "metadata": {
        "id": "7GmB6U6zrhcy",
        "colab": {
          "base_uri": "https://localhost:8080/"
        },
        "outputId": "e14c7682-ed4a-4caf-fab7-412b5d3b9ba2"
      },
      "execution_count": 13,
      "outputs": [
        {
          "output_type": "stream",
          "name": "stdout",
          "text": [
            "List orijinal: [1, 3, 5, 7, 9]\n",
            "List olahan: [1, 3, 1.25, 7, 9]\n"
          ]
        }
      ]
    },
    {
      "cell_type": "markdown",
      "metadata": {
        "id": "JDEkiWu_DmS_"
      },
      "source": [
        "### [***Common Sequence Operations***](https://docs.python.org/3/library/stdtypes.html#common-sequence-operations)\n",
        "*Common Sequence Operations* adalah berbagai fungsi, methods dan operasi yang dapat dikenakan terhadap data bertipe sequence, antara lain:\n",
        "1. Fungsi `len()`;\n",
        "2. Method `count()`;\n",
        "3. Method `index()`;\n",
        "4. Method `sort()`;\n",
        "5. Method `reverse()`;\n",
        "6. Operasi Concatenate `list_1 + list_2`;\n",
        "7. Operasi Repetition `2 * list_1`;\n",
        "8. Fungsi `max()`; dan\n",
        "9. Fungsi `min()`;\n",
        "10. Operasi `in`;\n",
        "11. Operasi `not in`."
      ]
    },
    {
      "cell_type": "code",
      "execution_count": 14,
      "metadata": {
        "id": "M3C5VDzGjvIB",
        "colab": {
          "base_uri": "https://localhost:8080/"
        },
        "outputId": "38b7443b-eac9-47b7-b672-19e8a855d74b"
      },
      "outputs": [
        {
          "output_type": "stream",
          "name": "stdout",
          "text": [
            "Jumlah elemen pada list nama_teman = 5\n",
            "Jumlah elemen pada list nama_teman_baru = 5\n"
          ]
        }
      ],
      "source": [
        "# Menampilkan jumlah elemen pada sebuah list\n",
        "\n",
        "print(f\"Jumlah elemen pada list nama_teman = {len(nama_teman)}\")\n",
        "print(f\"Jumlah elemen pada list nama_teman_baru = {len(nama_teman_baru)}\")"
      ]
    },
    {
      "cell_type": "code",
      "execution_count": 15,
      "metadata": {
        "id": "tc6DZ73OkGla",
        "colab": {
          "base_uri": "https://localhost:8080/"
        },
        "outputId": "c822f079-e2bf-4231-9f53-d9a77a290733"
      },
      "outputs": [
        {
          "output_type": "execute_result",
          "data": {
            "text/plain": [
              "0"
            ]
          },
          "metadata": {},
          "execution_count": 15
        }
      ],
      "source": [
        "# Menghitung banyaknya kemunculan sebuah elemen\n",
        "\n",
        "nama_teman.count('Beni')"
      ]
    },
    {
      "cell_type": "code",
      "execution_count": 16,
      "metadata": {
        "id": "gC9tnRsJkbh9",
        "colab": {
          "base_uri": "https://localhost:8080/"
        },
        "outputId": "f14c5a7d-5c66-40f7-add9-63c5eabb056c"
      },
      "outputs": [
        {
          "output_type": "execute_result",
          "data": {
            "text/plain": [
              "3"
            ]
          },
          "metadata": {},
          "execution_count": 16
        }
      ],
      "source": [
        "# Menampilkan index dari elemen tertentu\n",
        "# jika elemen memiliki duplikat maka index yang ditampilkan adalah index terkecil\n",
        "\n",
        "nama_teman.index('Dimas')"
      ]
    },
    {
      "cell_type": "code",
      "execution_count": 17,
      "metadata": {
        "id": "9AjnYrC8nWRe",
        "colab": {
          "base_uri": "https://localhost:8080/"
        },
        "outputId": "bdf8ed49-d4d2-4aa6-be11-5cdd27a3bcf4"
      },
      "outputs": [
        {
          "output_type": "stream",
          "name": "stdout",
          "text": [
            "List diurut secara Ascending: ['Amir', 'Budi', 'Cinta', 'Dimas', 'Edi']\n",
            "List diurut secara Descending: ['Edi', 'Dimas', 'Cinta', 'Budi', 'Amir']\n"
          ]
        }
      ],
      "source": [
        "# Mengurutkan elemen pada list menggunakan method sort()\n",
        "# Method sort() akan melakukan perubahan secara 'inplace'\n",
        "\n",
        "# Ascending sorting\n",
        "nama_teman.sort()\n",
        "print(f'List diurut secara Ascending: {nama_teman}')\n",
        "\n",
        "# Descending sorting\n",
        "nama_teman.sort(reverse=True)\n",
        "print(f'List diurut secara Descending: {nama_teman}')"
      ]
    },
    {
      "cell_type": "code",
      "execution_count": 18,
      "metadata": {
        "id": "vyVqUO5vnwyU",
        "colab": {
          "base_uri": "https://localhost:8080/"
        },
        "outputId": "77b1e55b-8abb-461f-d8b2-f471c0951cd2"
      },
      "outputs": [
        {
          "output_type": "stream",
          "name": "stdout",
          "text": [
            "['Amir', 'Budi', 'Cinta', 'Dimas', 'Edi']\n"
          ]
        }
      ],
      "source": [
        "# Membalikkan posisi elemen pada list dari belakang ke depan: BUKAN MENGURUTKAN!!!\n",
        "# Method reverse() akan melakukan perubahan secara 'inplace'\n",
        "\n",
        "nama_teman.reverse()\n",
        "print(nama_teman)"
      ]
    },
    {
      "cell_type": "code",
      "execution_count": 19,
      "metadata": {
        "id": "KtxA7uHmPh51",
        "colab": {
          "base_uri": "https://localhost:8080/"
        },
        "outputId": "42dc7e93-9558-4824-df20-f0d31bd63649"
      },
      "outputs": [
        {
          "output_type": "stream",
          "name": "stdout",
          "text": [
            "Hasil concatenation nama_teman dan angka: ['Amir', 'Budi', 'Cinta', 'Dimas', 'Edi', 0, 1, 2, 3, 4, 5, 6, 7, 8, 9]\n"
          ]
        }
      ],
      "source": [
        "# Concatenation, menggabungkan list dengan list lain\n",
        "\n",
        "print(f\"Hasil concatenation nama_teman dan angka: {nama_teman+angka}\")"
      ]
    },
    {
      "cell_type": "code",
      "execution_count": 20,
      "metadata": {
        "id": "6BtyqEERPzm0",
        "colab": {
          "base_uri": "https://localhost:8080/"
        },
        "outputId": "005cb692-0f9d-40cf-a20c-bf41710a8ff0"
      },
      "outputs": [
        {
          "output_type": "stream",
          "name": "stdout",
          "text": [
            "['Amir', 'Budi', 'Cinta', 'Dimas', 'Edi', 'Amir', 'Budi', 'Cinta', 'Dimas', 'Edi']\n",
            "[0, 1, 2, 3, 4, 5, 6, 7, 8, 9, 0, 1, 2, 3, 4, 5, 6, 7, 8, 9]\n"
          ]
        }
      ],
      "source": [
        "# Repetition, mengulang list\n",
        "\n",
        "print(2 * nama_teman)\n",
        "print(2 * angka)"
      ]
    },
    {
      "cell_type": "code",
      "execution_count": 21,
      "metadata": {
        "id": "EeqE2FsxL2A4",
        "colab": {
          "base_uri": "https://localhost:8080/",
          "height": 36
        },
        "outputId": "bf11eef3-0649-4b3d-bf6c-35aa53eef11e"
      },
      "outputs": [
        {
          "output_type": "execute_result",
          "data": {
            "text/plain": [
              "'Edi'"
            ],
            "application/vnd.google.colaboratory.intrinsic+json": {
              "type": "string"
            }
          },
          "metadata": {},
          "execution_count": 21
        }
      ],
      "source": [
        "# Mencari elemen dengan value paling besar\n",
        "\n",
        "max(nama_teman)"
      ]
    },
    {
      "cell_type": "code",
      "execution_count": 22,
      "metadata": {
        "id": "MhhI1R_YMJpB",
        "colab": {
          "base_uri": "https://localhost:8080/",
          "height": 36
        },
        "outputId": "095dfc17-4483-4b0b-cb3e-8b7272109201"
      },
      "outputs": [
        {
          "output_type": "execute_result",
          "data": {
            "text/plain": [
              "'Amir'"
            ],
            "application/vnd.google.colaboratory.intrinsic+json": {
              "type": "string"
            }
          },
          "metadata": {},
          "execution_count": 22
        }
      ],
      "source": [
        "# Mencari elemen dengan value paling kecil\n",
        "\n",
        "min(nama_teman)"
      ]
    },
    {
      "cell_type": "markdown",
      "metadata": {
        "id": "BPXNKi4lMUV1"
      },
      "source": [
        "**GOTCHA!!**<br>\n",
        "'Edi' dan 'Amir' bukan data bertipe numeric, mengapa bisa dicari max dan min???"
      ]
    },
    {
      "cell_type": "code",
      "execution_count": 23,
      "metadata": {
        "id": "LbWth0_lJ8gB",
        "colab": {
          "base_uri": "https://localhost:8080/"
        },
        "outputId": "2c60940a-9382-4d8d-89ab-14b28f2df7cf"
      },
      "outputs": [
        {
          "output_type": "execute_result",
          "data": {
            "text/plain": [
              "False"
            ]
          },
          "metadata": {},
          "execution_count": 23
        }
      ],
      "source": [
        "# Melakukan pengecekan keberadaan 'Rhoma' pada list nama_teman\n",
        "\n",
        "'Rhoma' in nama_teman"
      ]
    },
    {
      "cell_type": "code",
      "execution_count": 24,
      "metadata": {
        "id": "SEgGk5XkKIdU",
        "colab": {
          "base_uri": "https://localhost:8080/"
        },
        "outputId": "9a814a43-158a-41fd-e5aa-b1129fe8e755"
      },
      "outputs": [
        {
          "output_type": "execute_result",
          "data": {
            "text/plain": [
              "True"
            ]
          },
          "metadata": {},
          "execution_count": 24
        }
      ],
      "source": [
        "# Melakukan pengecekan ketidak-adaan 'Rhoma' pada list nama_teman\n",
        "\n",
        "'Rhoma' not in nama_teman"
      ]
    },
    {
      "cell_type": "markdown",
      "metadata": {
        "id": "XLxgVGTX9TSy"
      },
      "source": [
        "### Growing & shrinking `list`\n",
        "Beberapa methods yang dapat mengubah ukuran dari sebuah `list`:\n",
        "1. Menambah elemen baru pada akhir sebuah list:\n",
        "```python\n",
        "nama_list.append(elemen_baru)\n",
        "```\n",
        "2. Menyisipkan elemen baru pada posisi tertentu:\n",
        "```python\n",
        "nama_list.insert(index_posisi, elemen_baru)\n",
        "```\n",
        "3. Menghapus elemen pada posisi index tertentu:\n",
        "```python\n",
        "nama_list.pop(indeks)\n",
        "```\n",
        "4. Menghapus elemen tertentu dari `list`:\n",
        "```python\n",
        "nama_list.remove(elemen)\n",
        "```\n",
        "5. Mengosongkan seluruh elemen dari `list:\n",
        "```python\n",
        "nama_list.clear()\n",
        "```"
      ]
    },
    {
      "cell_type": "code",
      "execution_count": 25,
      "metadata": {
        "id": "Bhut-OTQhHAT",
        "colab": {
          "base_uri": "https://localhost:8080/"
        },
        "outputId": "99929494-75ee-42aa-e38a-e0a2302731ed"
      },
      "outputs": [
        {
          "output_type": "stream",
          "name": "stdout",
          "text": [
            "['Amir', 'Budi', 'Cinta', 'Dimas', 'Edi', 'Ferdi']\n"
          ]
        }
      ],
      "source": [
        "# Menambahkan elemen baru di akhir list\n",
        "\n",
        "nama_teman_baru.append('Ferdi')\n",
        "print(nama_teman_baru)"
      ]
    },
    {
      "cell_type": "code",
      "execution_count": 26,
      "metadata": {
        "id": "VAvBlTqGk6iT",
        "colab": {
          "base_uri": "https://localhost:8080/"
        },
        "outputId": "41bdbb15-0ebf-4ade-f165-cc1015bce18f"
      },
      "outputs": [
        {
          "output_type": "stream",
          "name": "stdout",
          "text": [
            "['Amir', 'Budi', 'Canda', 'Cinta', 'Dimas', 'Edi', 'Ferdi']\n"
          ]
        }
      ],
      "source": [
        "# Menyisipkan elemen baru pada indeks posisi tertentu\n",
        "\n",
        "nama_teman_baru.insert(2, 'Canda')\n",
        "print(nama_teman_baru)"
      ]
    },
    {
      "cell_type": "code",
      "execution_count": 27,
      "metadata": {
        "id": "wBUDNtMHmKOK",
        "colab": {
          "base_uri": "https://localhost:8080/"
        },
        "outputId": "27814ee8-ff6c-4e1b-dcd8-81af3f1964d6"
      },
      "outputs": [
        {
          "output_type": "stream",
          "name": "stdout",
          "text": [
            "['Amir', 'Budi', 'Cinta', 'Dimas', 'Edi', 'Ferdi']\n"
          ]
        }
      ],
      "source": [
        "# Menghapus elemen pada index posisional tertentu\n",
        "\n",
        "nama_teman_baru.pop(2)\n",
        "print(nama_teman_baru)"
      ]
    },
    {
      "cell_type": "code",
      "execution_count": 28,
      "metadata": {
        "id": "7rtOiNMJmzqe",
        "colab": {
          "base_uri": "https://localhost:8080/"
        },
        "outputId": "96d15094-7890-4afb-ad9d-d6015e5c79f4"
      },
      "outputs": [
        {
          "output_type": "stream",
          "name": "stdout",
          "text": [
            "['Amir', 'Budi', 'Dimas', 'Edi', 'Ferdi']\n"
          ]
        }
      ],
      "source": [
        "# Menghapus elemen tertentu\n",
        "# Jika terdapat elemen yang terduplikat maka yang dihapus adalah value yang muncul pertama kali\n",
        "\n",
        "nama_teman_baru.remove('Cinta')\n",
        "print(nama_teman_baru)"
      ]
    },
    {
      "cell_type": "code",
      "execution_count": 29,
      "metadata": {
        "id": "BmZ1HqighMV1",
        "colab": {
          "base_uri": "https://localhost:8080/"
        },
        "outputId": "eae8cf5f-ac49-497e-8707-0c3d5f1fd29c"
      },
      "outputs": [
        {
          "output_type": "stream",
          "name": "stdout",
          "text": [
            "[]\n"
          ]
        }
      ],
      "source": [
        "# Mengosongkan nama_teman\n",
        "\n",
        "nama_teman_baru.clear()\n",
        "print(nama_teman_baru)"
      ]
    },
    {
      "cell_type": "markdown",
      "metadata": {
        "id": "bDYTPQ9yGNNo"
      },
      "source": [
        "### `List` elements mutations\n",
        "Cara melakukan mutasi terhadap elemen sebuah list:\n",
        "```python\n",
        "nama_list[indeks_posisional]=elemen_pengganti\n",
        "```"
      ]
    },
    {
      "cell_type": "code",
      "execution_count": 30,
      "metadata": {
        "id": "oS2T-Ny_UJl4",
        "colab": {
          "base_uri": "https://localhost:8080/"
        },
        "outputId": "d969ec7a-e253-48b2-81ed-d6525c43974a"
      },
      "outputs": [
        {
          "output_type": "stream",
          "name": "stdout",
          "text": [
            "Elemen pada list nama_teman: ['Amir', 'Beni', 'Cinta', 'Dimas', 'Edi']\n",
            "Elemen pada list teman_baru: []\n"
          ]
        }
      ],
      "source": [
        "# Mengganti elemen pada index tertentu dari list nama_teman\n",
        "# Budi akan digantikan dengan Beni\n",
        "# Ketika terjadi mutasi terhadap elemen pada list hasil copy,\n",
        "# elemen pada list original tidak mengalami perubahan!!!\n",
        "\n",
        "nama_teman[1] = 'Beni'\n",
        "print(f\"Elemen pada list nama_teman: {nama_teman}\")\n",
        "print(f\"Elemen pada list teman_baru: {nama_teman_baru}\")"
      ]
    },
    {
      "cell_type": "markdown",
      "metadata": {
        "id": "GHo5_hELi74V"
      },
      "source": [
        "### `LIST` EXERCISE!!!\n",
        "Lakukan mutasi pada setiap elemen pada list angka_ganjil:\n",
        "1. Lakukan duplikat terhadap `angka_ganjil` dan assign ke variabel baru bernama `angka_untuk_dirubah`;\n",
        "2. Lakukan operasi pangkat 2 terhadap elemen `angka_untuk_dirubah` dengan indeks == 4;\n",
        "3. Lakukan operasi pangkat 0 terhadap seluruh elemen pada `angka_ganjil`, lalu assign ke variabel bernama `angka_satu`;\n",
        "4. Lakukan operasi perkalian angka 10 dengan setiap elemen ber-**indeks ganjil** pada `angka_ganjil`, lalu assign ke sebuah variabel bernama `perkalian_sepuluh_terpilih`."
      ]
    },
    {
      "cell_type": "code",
      "source": [
        "# 1. Duplikat angka_ganjil\n",
        "angka_untuk_dirubah = angka_ganjil.copy()"
      ],
      "metadata": {
        "id": "Qma66JR-6PRo"
      },
      "execution_count": 33,
      "outputs": []
    },
    {
      "cell_type": "code",
      "execution_count": 35,
      "metadata": {
        "id": "JbxfwelAQuQA",
        "colab": {
          "base_uri": "https://localhost:8080/"
        },
        "outputId": "2cfecf3e-b613-43c1-f3cc-a8dfa06f22ad"
      },
      "outputs": [
        {
          "output_type": "stream",
          "name": "stdout",
          "text": [
            "[1, 3, 5, 7, 81]\n"
          ]
        }
      ],
      "source": [
        "# 2. Mutasi elemen ber-index == 4 pada angka_untuk_dirubah\n",
        "angka_untuk_dirubah[4] = angka_untuk_dirubah[4]**2\n",
        "\n",
        "print(angka_untuk_dirubah)"
      ]
    },
    {
      "cell_type": "code",
      "source": [
        "# 3. Operasi pangkat 0 terhadap seluruh elemen angka_ganjil\n",
        "angka_satu = [angka**0 for angka in angka_ganjil]\n",
        "print(angka_satu)"
      ],
      "metadata": {
        "id": "CpY-KNJD41A9",
        "colab": {
          "base_uri": "https://localhost:8080/"
        },
        "outputId": "ef0d7305-634a-4ada-a2ac-867c59d9d950"
      },
      "execution_count": 36,
      "outputs": [
        {
          "output_type": "stream",
          "name": "stdout",
          "text": [
            "[1, 1, 1, 1, 1]\n"
          ]
        }
      ]
    },
    {
      "cell_type": "code",
      "source": [
        "# 4. Operasi perkalian 10 terhadap elemen berindeks ganjil dari angka_ganjil\n",
        "perkalian_sepuluh_terpilih = [angka_ganjil[idx]*10 if idx % 2 == 1 else angka_ganjil[idx] for idx in range(0, len(angka_ganjil))]\n",
        "print(perkalian_sepuluh_terpilih)"
      ],
      "metadata": {
        "id": "crwvAfVz7XJR",
        "colab": {
          "base_uri": "https://localhost:8080/"
        },
        "outputId": "b92ab8eb-1a5f-40f7-896f-fc05511888e4"
      },
      "execution_count": 130,
      "outputs": [
        {
          "output_type": "stream",
          "name": "stdout",
          "text": [
            "[1, 30, 5, 70, 9]\n"
          ]
        }
      ]
    },
    {
      "cell_type": "markdown",
      "metadata": {
        "id": "FV_-gQW2rIiT"
      },
      "source": [
        "---\n",
        "## `Tuple`\n",
        "> Serupa dengan `list`, sebuah `tuple` berisikan objek bertipe rangkaian (*sequence*).\n",
        "\n",
        "Sebuah `tuple` memiliki karakteristik yang hampir seluruhnya mirip dengan `list`. Satu-satunya perbedaan karakteristik `tuple` dari `list` adalah sifatnya yang ***immutable***, dengan kata lain sebuah `tuple` bersifat *fixed* dan *unchangeable*. Oleh karena sifat *immutable* tersebut, biasanya `tuple` dipergunakan untuk menyimpan data yang bersifat konstan, seperti:\n",
        "1. Menyimpan nilai warna dalam format RGB (exp. red = (255, 0, 0));\n",
        "2. Menyimpan data geometri (exp. koordinat = (106.888111, 17.132424))."
      ]
    },
    {
      "cell_type": "markdown",
      "metadata": {
        "id": "umz2HU5OcYcx"
      },
      "source": [
        "### `Tuple` construction\n",
        "Beberapa cara untuk membuat sebuah `tuple`:\n",
        "1. Menggunakan `comma literals`:\n",
        "```python\n",
        "nama_tuple = item_1, item_2, ..., item_n\n",
        "```\n",
        "2. Menggunakan `tuple literals`:\n",
        "```python\n",
        "nama_tuple = () # Membuat tuple kosong\n",
        "nama_tuple = (elemen_1, elemen_2, ..., elemen_n)\n",
        "```\n",
        "\n",
        "3. Menggunakan `type constructor`:\n",
        "```python\n",
        "nama_tuple = tuple() # Membuat tuple kosong\n",
        "nama_tuple = tuple(iterable)\n",
        "```"
      ]
    },
    {
      "cell_type": "code",
      "execution_count": 39,
      "metadata": {
        "id": "1jxmPXfZfSEV",
        "colab": {
          "base_uri": "https://localhost:8080/"
        },
        "outputId": "fc27b98e-77e1-4e83-aa50-9745b31555e7"
      },
      "outputs": [
        {
          "output_type": "stream",
          "name": "stdout",
          "text": [
            "(1000000, 2000000, 3000000, 4000000, 5000000)\n"
          ]
        }
      ],
      "source": [
        "# Membuat tuple dengan comma literals\n",
        "gaji_tuple = 1_000_000, 2_000_000, 3_000_000, 4_000_000, 5_000_000\n",
        "print(gaji_tuple)"
      ]
    },
    {
      "cell_type": "code",
      "execution_count": 40,
      "metadata": {
        "id": "-Qv2yHdnwCNj",
        "colab": {
          "base_uri": "https://localhost:8080/"
        },
        "outputId": "75c9665c-361b-442a-a453-b07300392431"
      },
      "outputs": [
        {
          "output_type": "stream",
          "name": "stdout",
          "text": [
            "(25, 20, 30, 40, 50)\n"
          ]
        }
      ],
      "source": [
        "# Membuat tuple dengan tuple literals\n",
        "umur_tuple = (25, 20, 30, 40, 50)\n",
        "print(umur_tuple)"
      ]
    },
    {
      "cell_type": "code",
      "execution_count": 41,
      "metadata": {
        "id": "-VlRsHcAd438",
        "colab": {
          "base_uri": "https://localhost:8080/"
        },
        "outputId": "45f028bd-73ce-4bcc-a6f7-e632a3480675"
      },
      "outputs": [
        {
          "output_type": "stream",
          "name": "stdout",
          "text": [
            "(100, 200, 300, 400, 500)\n"
          ]
        }
      ],
      "source": [
        "# Membuat tuple dengan type constructor\n",
        "kode_tuple = tuple(range(100, 501, 100))\n",
        "print(kode_tuple)"
      ]
    },
    {
      "cell_type": "markdown",
      "metadata": {
        "id": "35VD-mo2goWl"
      },
      "source": [
        "### *Common Sequence Operators*\n",
        "Berbagai *common sequence operators* yang berlaku bagi `list` juga dapat diberlakukan terhadap `tuple`."
      ]
    },
    {
      "cell_type": "code",
      "execution_count": 42,
      "metadata": {
        "id": "7kOdOIElwOrD",
        "colab": {
          "base_uri": "https://localhost:8080/"
        },
        "outputId": "9cf34d11-9d92-4610-9ffd-a1826a727722"
      },
      "outputs": [
        {
          "output_type": "stream",
          "name": "stdout",
          "text": [
            "Jumlah elemen pada umur_tuple: 5 elemen\n"
          ]
        }
      ],
      "source": [
        "# Menampilkan jumlah elemen pada puluhan_tuple\n",
        "print(f\"Jumlah elemen pada umur_tuple: {len(umur_tuple)} elemen\")"
      ]
    },
    {
      "cell_type": "code",
      "execution_count": 43,
      "metadata": {
        "id": "z0JRHxQVwQvv",
        "colab": {
          "base_uri": "https://localhost:8080/"
        },
        "outputId": "319dd0c6-ace9-49db-ca6f-134d15ac4713"
      },
      "outputs": [
        {
          "output_type": "stream",
          "name": "stdout",
          "text": [
            "Banyaknya nilai 20 pada umur_tuple: 1 elemen\n"
          ]
        }
      ],
      "source": [
        "# Menampilkan kemunculan elemen bernilai 10 pada puluhan_tuple\n",
        "print(f\"Banyaknya nilai 20 pada umur_tuple: {umur_tuple.count(20)} elemen\")"
      ]
    },
    {
      "cell_type": "code",
      "execution_count": 44,
      "metadata": {
        "id": "c0eDAOpEK-XN",
        "colab": {
          "base_uri": "https://localhost:8080/"
        },
        "outputId": "0206e352-66bb-458c-f9c1-ed8c1f2b5710"
      },
      "outputs": [
        {
          "output_type": "stream",
          "name": "stdout",
          "text": [
            "Posisi index dari 30 pada umur_tuple adalah: ke-2\n"
          ]
        }
      ],
      "source": [
        "# Menampilkan indeks posisional dari sebuah elemen pada puluhan_tuple\n",
        "print(f\"Posisi index dari 30 pada umur_tuple adalah: ke-{umur_tuple.index(30)}\")"
      ]
    },
    {
      "cell_type": "code",
      "execution_count": 45,
      "metadata": {
        "id": "lBixP0HLwF7T",
        "colab": {
          "base_uri": "https://localhost:8080/"
        },
        "outputId": "ba723886-9949-454a-abc2-9bd4c2a97bab"
      },
      "outputs": [
        {
          "output_type": "stream",
          "name": "stdout",
          "text": [
            "Elemen pada posisi indeks ke-3 adalah: 40\n"
          ]
        }
      ],
      "source": [
        "# Menampilkan elemen dengan index posisional 3 pada tuple\n",
        "print(f\"Elemen pada posisi indeks ke-3 adalah: {umur_tuple[3]}\")"
      ]
    },
    {
      "cell_type": "code",
      "execution_count": 46,
      "metadata": {
        "id": "9AU1z6_rwJbG",
        "colab": {
          "base_uri": "https://localhost:8080/"
        },
        "outputId": "2b8ddf58-f7d9-4a7c-9e47-12dbe4165f32"
      },
      "outputs": [
        {
          "output_type": "stream",
          "name": "stdout",
          "text": [
            "(25, 30, 50)\n"
          ]
        }
      ],
      "source": [
        "# Slicing pada tuple\n",
        "print(umur_tuple[::2])"
      ]
    },
    {
      "cell_type": "code",
      "execution_count": 47,
      "metadata": {
        "id": "KOQAHReIMXJX",
        "colab": {
          "base_uri": "https://localhost:8080/"
        },
        "outputId": "d59f57b1-d953-4ae1-b9f3-c5a24a1923f9"
      },
      "outputs": [
        {
          "output_type": "stream",
          "name": "stdout",
          "text": [
            "(25, 20, 30, 40, 50, 25, 20, 30, 40, 50, 25, 20, 30, 40, 50)\n"
          ]
        }
      ],
      "source": [
        "# Repetition sebanyak 3 kali\n",
        "print(umur_tuple*3)"
      ]
    },
    {
      "cell_type": "code",
      "execution_count": 48,
      "metadata": {
        "id": "AYNBGPqFMnwd",
        "colab": {
          "base_uri": "https://localhost:8080/"
        },
        "outputId": "f93acc21-8068-4689-f59f-a7840d9a931d"
      },
      "outputs": [
        {
          "output_type": "stream",
          "name": "stdout",
          "text": [
            "Hasil concatenation umur_tuple dengan gaji_tuple = (25, 20, 30, 40, 50, 1000000, 2000000, 3000000, 4000000, 5000000)\n"
          ]
        }
      ],
      "source": [
        "# Concatenation\n",
        "print(f\"Hasil concatenation umur_tuple dengan gaji_tuple = {umur_tuple+gaji_tuple}\")"
      ]
    },
    {
      "cell_type": "code",
      "execution_count": 49,
      "metadata": {
        "id": "85LUmIpUNPoL",
        "colab": {
          "base_uri": "https://localhost:8080/"
        },
        "outputId": "ccf8c59f-1fe9-40f0-fc85-e5d9bc7a12ef"
      },
      "outputs": [
        {
          "output_type": "execute_result",
          "data": {
            "text/plain": [
              "50"
            ]
          },
          "metadata": {},
          "execution_count": 49
        }
      ],
      "source": [
        "# Mencari nilai max\n",
        "max(umur_tuple)"
      ]
    },
    {
      "cell_type": "code",
      "execution_count": 50,
      "metadata": {
        "id": "PLEaabKpNXCm",
        "colab": {
          "base_uri": "https://localhost:8080/"
        },
        "outputId": "203b0f55-a8cf-4ee3-b0f0-883f2806401a"
      },
      "outputs": [
        {
          "output_type": "execute_result",
          "data": {
            "text/plain": [
              "20"
            ]
          },
          "metadata": {},
          "execution_count": 50
        }
      ],
      "source": [
        "# Mencari nilai min\n",
        "min(umur_tuple)"
      ]
    },
    {
      "cell_type": "code",
      "execution_count": 51,
      "metadata": {
        "id": "AxDSSIKoNdDt",
        "colab": {
          "base_uri": "https://localhost:8080/"
        },
        "outputId": "505bb666-49f0-4574-dc0f-b84c90fc42e3"
      },
      "outputs": [
        {
          "output_type": "execute_result",
          "data": {
            "text/plain": [
              "False"
            ]
          },
          "metadata": {},
          "execution_count": 51
        }
      ],
      "source": [
        "# Melakukan pengecekan keberadaan 70 pada puluhan_tuple\n",
        "70 in umur_tuple"
      ]
    },
    {
      "cell_type": "code",
      "execution_count": 52,
      "metadata": {
        "id": "7Rr4rwtvNdbw",
        "colab": {
          "base_uri": "https://localhost:8080/"
        },
        "outputId": "948c3bc3-a9b1-46ad-f43e-4427ded6439c"
      },
      "outputs": [
        {
          "output_type": "execute_result",
          "data": {
            "text/plain": [
              "True"
            ]
          },
          "metadata": {},
          "execution_count": 52
        }
      ],
      "source": [
        "# Melakukan pengecekan ketidak-adaan 70 pada puluhan_tuple\n",
        "\n",
        "70 not in umur_tuple"
      ]
    },
    {
      "cell_type": "markdown",
      "metadata": {
        "id": "tN7rubaBhJ6K"
      },
      "source": [
        "### `TUPLE` EXERCISES!!!\n",
        "**EXERCISE 1** -- Buatlah sebuah `tuple` sebagai berikut:\n",
        "  1. Berisi angka bulat yang bernilai antara 100 hingga 0, dengan step penurunan sebesar 5;\n",
        "  3. Assign `tuple` tersebut ke variable `tuple_menurun`;\n",
        "  4. Tampilkan `tuple_menurun` ke layar.\n"
      ]
    },
    {
      "cell_type": "code",
      "execution_count": 56,
      "metadata": {
        "id": "-JW5IZVDwMNY",
        "colab": {
          "base_uri": "https://localhost:8080/"
        },
        "outputId": "cc521ebc-2af9-4175-a9ba-0dec3b60f4f2"
      },
      "outputs": [
        {
          "output_type": "stream",
          "name": "stdout",
          "text": [
            "(100, 95, 90, 85, 80, 75, 70, 65, 60, 55, 50, 45, 40, 35, 30, 25, 20, 15, 10, 5)\n"
          ]
        }
      ],
      "source": [
        "tuple_menurun = tuple(range(100, 0, -5))\n",
        "\n",
        "print(tuple_menurun)"
      ]
    },
    {
      "cell_type": "markdown",
      "source": [
        "**EXERCISE 2** -- Lakukan operasi pangkat 25 terhadap terhadap elemen berindex 25 pada `tuple_menurun`."
      ],
      "metadata": {
        "id": "jVaU5bgiyhtk"
      }
    },
    {
      "cell_type": "code",
      "source": [
        "tuple_menurun[25]**25"
      ],
      "metadata": {
        "id": "8SFJY87_yJIs",
        "colab": {
          "base_uri": "https://localhost:8080/",
          "height": 141
        },
        "outputId": "c194e561-d93f-4ff0-9abb-c7403a495056"
      },
      "execution_count": 57,
      "outputs": [
        {
          "output_type": "error",
          "ename": "IndexError",
          "evalue": "tuple index out of range",
          "traceback": [
            "\u001b[0;31m---------------------------------------------------------------------------\u001b[0m",
            "\u001b[0;31mIndexError\u001b[0m                                Traceback (most recent call last)",
            "\u001b[0;32m<ipython-input-57-24641fcb43c9>\u001b[0m in \u001b[0;36m<cell line: 1>\u001b[0;34m()\u001b[0m\n\u001b[0;32m----> 1\u001b[0;31m \u001b[0mtuple_menurun\u001b[0m\u001b[0;34m[\u001b[0m\u001b[0;36m25\u001b[0m\u001b[0;34m]\u001b[0m\u001b[0;34m**\u001b[0m\u001b[0;36m25\u001b[0m\u001b[0;34m\u001b[0m\u001b[0;34m\u001b[0m\u001b[0m\n\u001b[0m",
            "\u001b[0;31mIndexError\u001b[0m: tuple index out of range"
          ]
        }
      ]
    },
    {
      "cell_type": "markdown",
      "source": [
        "___\n",
        "#### 1. PENGENALAN OBJECT `pd.Series`\n",
        "\n",
        "> `pd.Series` adalah sebuah objek modul `pandas` yang berupa rangkaian object 1 dimensi.\n",
        "\n",
        "Sebuah `pd.Series` dapat disusun dengan cara:\n",
        "1. Memasukkan sebuah `list` atau `tuple` ke dalam method `pd.Series`;\n",
        "2. Mengambil setiap elemen pada sebuah `columns` dari sebuah `DataFrame`; atau\n",
        "3. Mengambil setiap elemen pada sebuah `row` dari sebuah `DataFrame`.\n",
        "\n",
        "Sebuah `pd.Series` akan memiliki attribut/karakteristik hampir serupa dengan yang dimiliki oleh sebuah `list`, kecuali `zero-based`, karena index dari sebuah `pd.Series` dapat bertipe data apapun selama bersifat unik.\n",
        "\n"
      ],
      "metadata": {
        "id": "0OFwQTzSwECV"
      }
    },
    {
      "cell_type": "code",
      "source": [
        "# Mengimpor modul yang diperlukan\n",
        "import pandas as pd\n",
        "\n",
        "# Set file path\n",
        "file_path = \"https://storage.googleapis.com/dqlab-dataset/SuperStore.csv\"\n",
        "\n",
        "# Mengimport dataset ke dalam sebuah DataFrame\n",
        "df_sales = pd.read_csv(file_path)"
      ],
      "metadata": {
        "id": "U9T4s4Xvx9s6"
      },
      "execution_count": 58,
      "outputs": []
    },
    {
      "cell_type": "code",
      "source": [
        "# 1.a. Membuat sebuah Series dari sebuah `list`\n",
        "print(\"`nama_teman` adalah sebuah\", type(nama_teman))\n",
        "# Masukkan `nama_teman` ke dalam `pd.Series`\n",
        "nama_teman_series = pd.Series(nama_teman, name='Nama_Teman')\n",
        "# `nama_teman_series` adalah sebuah `pd.Series`\n",
        "print(\"'nama_teman_series' adalah sebuah\", type(nama_teman_series))\n",
        "# Lihat isi nama_teman_series\n",
        "nama_teman_series"
      ],
      "metadata": {
        "id": "Rk3rS0Q2ysDQ",
        "colab": {
          "base_uri": "https://localhost:8080/",
          "height": 275
        },
        "outputId": "5d15e8fc-ae6a-4db7-f408-c400a0c69e03"
      },
      "execution_count": 59,
      "outputs": [
        {
          "output_type": "stream",
          "name": "stdout",
          "text": [
            "`nama_teman` adalah sebuah <class 'list'>\n",
            "'nama_teman_series' adalah sebuah <class 'pandas.core.series.Series'>\n"
          ]
        },
        {
          "output_type": "execute_result",
          "data": {
            "text/plain": [
              "0     Amir\n",
              "1     Beni\n",
              "2    Cinta\n",
              "3    Dimas\n",
              "4      Edi\n",
              "Name: Nama_Teman, dtype: object"
            ],
            "text/html": [
              "<div>\n",
              "<style scoped>\n",
              "    .dataframe tbody tr th:only-of-type {\n",
              "        vertical-align: middle;\n",
              "    }\n",
              "\n",
              "    .dataframe tbody tr th {\n",
              "        vertical-align: top;\n",
              "    }\n",
              "\n",
              "    .dataframe thead th {\n",
              "        text-align: right;\n",
              "    }\n",
              "</style>\n",
              "<table border=\"1\" class=\"dataframe\">\n",
              "  <thead>\n",
              "    <tr style=\"text-align: right;\">\n",
              "      <th></th>\n",
              "      <th>Nama_Teman</th>\n",
              "    </tr>\n",
              "  </thead>\n",
              "  <tbody>\n",
              "    <tr>\n",
              "      <th>0</th>\n",
              "      <td>Amir</td>\n",
              "    </tr>\n",
              "    <tr>\n",
              "      <th>1</th>\n",
              "      <td>Beni</td>\n",
              "    </tr>\n",
              "    <tr>\n",
              "      <th>2</th>\n",
              "      <td>Cinta</td>\n",
              "    </tr>\n",
              "    <tr>\n",
              "      <th>3</th>\n",
              "      <td>Dimas</td>\n",
              "    </tr>\n",
              "    <tr>\n",
              "      <th>4</th>\n",
              "      <td>Edi</td>\n",
              "    </tr>\n",
              "  </tbody>\n",
              "</table>\n",
              "</div><br><label><b>dtype:</b> object</label>"
            ]
          },
          "metadata": {},
          "execution_count": 59
        }
      ]
    },
    {
      "cell_type": "code",
      "source": [
        "# 1.b. Membuat sebuah Series dari sebuah `tuple`\n",
        "print(\"`umur_tuple` adalah sebuah\", type(umur_tuple))\n",
        "# Masukan `puluhan_tuple` ke dalam `pd.Series`\n",
        "umur_tuple_series = pd.Series(umur_tuple, name='Umur')\n",
        "# `puluhan_tuple_series` adalah sebuah `pd.Series`\n",
        "print(\"'umur_tuple_series' adalah sebuah\", type(umur_tuple_series))\n",
        "# lihat isi puluhan_tuple_series\n",
        "umur_tuple_series"
      ],
      "metadata": {
        "id": "2mQnApy8uCog",
        "colab": {
          "base_uri": "https://localhost:8080/",
          "height": 275
        },
        "outputId": "11df7388-d167-437e-f259-06dc73822eed"
      },
      "execution_count": 60,
      "outputs": [
        {
          "output_type": "stream",
          "name": "stdout",
          "text": [
            "`umur_tuple` adalah sebuah <class 'tuple'>\n",
            "'umur_tuple_series' adalah sebuah <class 'pandas.core.series.Series'>\n"
          ]
        },
        {
          "output_type": "execute_result",
          "data": {
            "text/plain": [
              "0    25\n",
              "1    20\n",
              "2    30\n",
              "3    40\n",
              "4    50\n",
              "Name: Umur, dtype: int64"
            ],
            "text/html": [
              "<div>\n",
              "<style scoped>\n",
              "    .dataframe tbody tr th:only-of-type {\n",
              "        vertical-align: middle;\n",
              "    }\n",
              "\n",
              "    .dataframe tbody tr th {\n",
              "        vertical-align: top;\n",
              "    }\n",
              "\n",
              "    .dataframe thead th {\n",
              "        text-align: right;\n",
              "    }\n",
              "</style>\n",
              "<table border=\"1\" class=\"dataframe\">\n",
              "  <thead>\n",
              "    <tr style=\"text-align: right;\">\n",
              "      <th></th>\n",
              "      <th>Umur</th>\n",
              "    </tr>\n",
              "  </thead>\n",
              "  <tbody>\n",
              "    <tr>\n",
              "      <th>0</th>\n",
              "      <td>25</td>\n",
              "    </tr>\n",
              "    <tr>\n",
              "      <th>1</th>\n",
              "      <td>20</td>\n",
              "    </tr>\n",
              "    <tr>\n",
              "      <th>2</th>\n",
              "      <td>30</td>\n",
              "    </tr>\n",
              "    <tr>\n",
              "      <th>3</th>\n",
              "      <td>40</td>\n",
              "    </tr>\n",
              "    <tr>\n",
              "      <th>4</th>\n",
              "      <td>50</td>\n",
              "    </tr>\n",
              "  </tbody>\n",
              "</table>\n",
              "</div><br><label><b>dtype:</b> int64</label>"
            ]
          },
          "metadata": {},
          "execution_count": 60
        }
      ]
    },
    {
      "cell_type": "code",
      "source": [
        "# 2. Membuat sebuah Series dari sebuah kolom pada dataframe\n",
        "isi_kolom_sales = df_sales['Sales']\n",
        "# Cek tipe object dari `isi_kolom_sales`\n",
        "print(\"Seluruh elemen pada kolom `Sales` dari dataframe `df_sales` adalah\", type(isi_kolom_sales))\n",
        "# Melihat seluruh isi sebuah series berasal dari kolom dataframe\n",
        "isi_kolom_sales"
      ],
      "metadata": {
        "id": "aOIkiqgfzQbT",
        "colab": {
          "base_uri": "https://localhost:8080/",
          "height": 495
        },
        "outputId": "ab99c9ad-8d49-4d98-94d0-fcc6d4fc3034"
      },
      "execution_count": 61,
      "outputs": [
        {
          "output_type": "stream",
          "name": "stdout",
          "text": [
            "Seluruh elemen pada kolom `Sales` dari dataframe `df_sales` adalah <class 'pandas.core.series.Series'>\n"
          ]
        },
        {
          "output_type": "execute_result",
          "data": {
            "text/plain": [
              "0       261.9600\n",
              "1       731.9400\n",
              "2        14.6200\n",
              "3       957.5775\n",
              "4        22.3680\n",
              "          ...   \n",
              "9989     25.2480\n",
              "9990     91.9600\n",
              "9991    258.5760\n",
              "9992     29.6000\n",
              "9993    243.1600\n",
              "Name: Sales, Length: 9994, dtype: float64"
            ],
            "text/html": [
              "<div>\n",
              "<style scoped>\n",
              "    .dataframe tbody tr th:only-of-type {\n",
              "        vertical-align: middle;\n",
              "    }\n",
              "\n",
              "    .dataframe tbody tr th {\n",
              "        vertical-align: top;\n",
              "    }\n",
              "\n",
              "    .dataframe thead th {\n",
              "        text-align: right;\n",
              "    }\n",
              "</style>\n",
              "<table border=\"1\" class=\"dataframe\">\n",
              "  <thead>\n",
              "    <tr style=\"text-align: right;\">\n",
              "      <th></th>\n",
              "      <th>Sales</th>\n",
              "    </tr>\n",
              "  </thead>\n",
              "  <tbody>\n",
              "    <tr>\n",
              "      <th>0</th>\n",
              "      <td>261.9600</td>\n",
              "    </tr>\n",
              "    <tr>\n",
              "      <th>1</th>\n",
              "      <td>731.9400</td>\n",
              "    </tr>\n",
              "    <tr>\n",
              "      <th>2</th>\n",
              "      <td>14.6200</td>\n",
              "    </tr>\n",
              "    <tr>\n",
              "      <th>3</th>\n",
              "      <td>957.5775</td>\n",
              "    </tr>\n",
              "    <tr>\n",
              "      <th>4</th>\n",
              "      <td>22.3680</td>\n",
              "    </tr>\n",
              "    <tr>\n",
              "      <th>...</th>\n",
              "      <td>...</td>\n",
              "    </tr>\n",
              "    <tr>\n",
              "      <th>9989</th>\n",
              "      <td>25.2480</td>\n",
              "    </tr>\n",
              "    <tr>\n",
              "      <th>9990</th>\n",
              "      <td>91.9600</td>\n",
              "    </tr>\n",
              "    <tr>\n",
              "      <th>9991</th>\n",
              "      <td>258.5760</td>\n",
              "    </tr>\n",
              "    <tr>\n",
              "      <th>9992</th>\n",
              "      <td>29.6000</td>\n",
              "    </tr>\n",
              "    <tr>\n",
              "      <th>9993</th>\n",
              "      <td>243.1600</td>\n",
              "    </tr>\n",
              "  </tbody>\n",
              "</table>\n",
              "<p>9994 rows × 1 columns</p>\n",
              "</div><br><label><b>dtype:</b> float64</label>"
            ]
          },
          "metadata": {},
          "execution_count": 61
        }
      ]
    },
    {
      "cell_type": "code",
      "source": [
        "# 3. Membuat sebuah Series dari sebuah row pada dataframe\n",
        "isi_row_tertentu = df_sales.loc[0, :]\n",
        "# Cek tipe object `isi_row_tertentu`\n",
        "print(\"Setiap row pada sebuah dataframe pada dasarnya adalah sebuah\", type(isi_row_tertentu))\n",
        "# Melihat isi sebuah series berasal dari row dataframe\n",
        "isi_row_tertentu"
      ],
      "metadata": {
        "id": "RuP_GFVGzpYF",
        "colab": {
          "base_uri": "https://localhost:8080/",
          "height": 748
        },
        "outputId": "dcadf3ed-1fc9-4796-a224-d9ca8fd29c21"
      },
      "execution_count": 62,
      "outputs": [
        {
          "output_type": "stream",
          "name": "stdout",
          "text": [
            "Setiap row pada sebuah dataframe pada dasarnya adalah sebuah <class 'pandas.core.series.Series'>\n"
          ]
        },
        {
          "output_type": "execute_result",
          "data": {
            "text/plain": [
              "Order_ID                             CA-2019-152156\n",
              "Customer_ID                                CG-12520\n",
              "Postal_Code                                   42420\n",
              "Product_ID                          FUR-BO-10001798\n",
              "Sales                                        261.96\n",
              "Quantity                                          2\n",
              "Discount                                        0.0\n",
              "Profit                                      41.9136\n",
              "Category                                  Furniture\n",
              "Sub-Category                              Bookcases\n",
              "Product_Name      Bush Somerset Collection Bookcase\n",
              "Order_Date                                11/8/2019\n",
              "Ship_Date                                11/11/2019\n",
              "Ship_Mode                              Second Class\n",
              "Customer_Name                           Claire Gute\n",
              "Segment                                    Consumer\n",
              "Country/Region                        United States\n",
              "City                                      Henderson\n",
              "State                                      Kentucky\n",
              "Region                                        South\n",
              "Name: 0, dtype: object"
            ],
            "text/html": [
              "<div>\n",
              "<style scoped>\n",
              "    .dataframe tbody tr th:only-of-type {\n",
              "        vertical-align: middle;\n",
              "    }\n",
              "\n",
              "    .dataframe tbody tr th {\n",
              "        vertical-align: top;\n",
              "    }\n",
              "\n",
              "    .dataframe thead th {\n",
              "        text-align: right;\n",
              "    }\n",
              "</style>\n",
              "<table border=\"1\" class=\"dataframe\">\n",
              "  <thead>\n",
              "    <tr style=\"text-align: right;\">\n",
              "      <th></th>\n",
              "      <th>0</th>\n",
              "    </tr>\n",
              "  </thead>\n",
              "  <tbody>\n",
              "    <tr>\n",
              "      <th>Order_ID</th>\n",
              "      <td>CA-2019-152156</td>\n",
              "    </tr>\n",
              "    <tr>\n",
              "      <th>Customer_ID</th>\n",
              "      <td>CG-12520</td>\n",
              "    </tr>\n",
              "    <tr>\n",
              "      <th>Postal_Code</th>\n",
              "      <td>42420</td>\n",
              "    </tr>\n",
              "    <tr>\n",
              "      <th>Product_ID</th>\n",
              "      <td>FUR-BO-10001798</td>\n",
              "    </tr>\n",
              "    <tr>\n",
              "      <th>Sales</th>\n",
              "      <td>261.96</td>\n",
              "    </tr>\n",
              "    <tr>\n",
              "      <th>Quantity</th>\n",
              "      <td>2</td>\n",
              "    </tr>\n",
              "    <tr>\n",
              "      <th>Discount</th>\n",
              "      <td>0.0</td>\n",
              "    </tr>\n",
              "    <tr>\n",
              "      <th>Profit</th>\n",
              "      <td>41.9136</td>\n",
              "    </tr>\n",
              "    <tr>\n",
              "      <th>Category</th>\n",
              "      <td>Furniture</td>\n",
              "    </tr>\n",
              "    <tr>\n",
              "      <th>Sub-Category</th>\n",
              "      <td>Bookcases</td>\n",
              "    </tr>\n",
              "    <tr>\n",
              "      <th>Product_Name</th>\n",
              "      <td>Bush Somerset Collection Bookcase</td>\n",
              "    </tr>\n",
              "    <tr>\n",
              "      <th>Order_Date</th>\n",
              "      <td>11/8/2019</td>\n",
              "    </tr>\n",
              "    <tr>\n",
              "      <th>Ship_Date</th>\n",
              "      <td>11/11/2019</td>\n",
              "    </tr>\n",
              "    <tr>\n",
              "      <th>Ship_Mode</th>\n",
              "      <td>Second Class</td>\n",
              "    </tr>\n",
              "    <tr>\n",
              "      <th>Customer_Name</th>\n",
              "      <td>Claire Gute</td>\n",
              "    </tr>\n",
              "    <tr>\n",
              "      <th>Segment</th>\n",
              "      <td>Consumer</td>\n",
              "    </tr>\n",
              "    <tr>\n",
              "      <th>Country/Region</th>\n",
              "      <td>United States</td>\n",
              "    </tr>\n",
              "    <tr>\n",
              "      <th>City</th>\n",
              "      <td>Henderson</td>\n",
              "    </tr>\n",
              "    <tr>\n",
              "      <th>State</th>\n",
              "      <td>Kentucky</td>\n",
              "    </tr>\n",
              "    <tr>\n",
              "      <th>Region</th>\n",
              "      <td>South</td>\n",
              "    </tr>\n",
              "  </tbody>\n",
              "</table>\n",
              "</div><br><label><b>dtype:</b> object</label>"
            ]
          },
          "metadata": {},
          "execution_count": 62
        }
      ]
    },
    {
      "cell_type": "code",
      "source": [
        "# Menunjukkan nama dari sebuah Series dilakukan dengan menggunakan attribut `name`\n",
        "nama_teman_series.name"
      ],
      "metadata": {
        "id": "Y41hYfvBse5R",
        "colab": {
          "base_uri": "https://localhost:8080/",
          "height": 36
        },
        "outputId": "ec60bb34-3389-47af-abf3-03e4e86c9eb4"
      },
      "execution_count": 63,
      "outputs": [
        {
          "output_type": "execute_result",
          "data": {
            "text/plain": [
              "'Nama_Teman'"
            ],
            "application/vnd.google.colaboratory.intrinsic+json": {
              "type": "string"
            }
          },
          "metadata": {},
          "execution_count": 63
        }
      ]
    },
    {
      "cell_type": "code",
      "source": [
        "# Menunjukkan berbagai index pada sebuah Series dilakukan dengan menggunakan attribut `index`\n",
        "isi_row_tertentu.index"
      ],
      "metadata": {
        "id": "qqfTP8Mlr-4W",
        "colab": {
          "base_uri": "https://localhost:8080/"
        },
        "outputId": "7f71fb66-803a-4517-926c-292d263694e8"
      },
      "execution_count": 64,
      "outputs": [
        {
          "output_type": "execute_result",
          "data": {
            "text/plain": [
              "Index(['Order_ID', 'Customer_ID', 'Postal_Code', 'Product_ID', 'Sales',\n",
              "       'Quantity', 'Discount', 'Profit', 'Category', 'Sub-Category',\n",
              "       'Product_Name', 'Order_Date', 'Ship_Date', 'Ship_Mode', 'Customer_Name',\n",
              "       'Segment', 'Country/Region', 'City', 'State', 'Region'],\n",
              "      dtype='object')"
            ]
          },
          "metadata": {},
          "execution_count": 64
        }
      ]
    },
    {
      "cell_type": "code",
      "source": [
        "# Menunjukkan besaran dimensi dari sebuah Series\n",
        "isi_row_tertentu.shape"
      ],
      "metadata": {
        "id": "VPtnfEJqtVe5",
        "colab": {
          "base_uri": "https://localhost:8080/"
        },
        "outputId": "f132ed92-dcee-4ed0-b9b0-16ae34cbe579"
      },
      "execution_count": 65,
      "outputs": [
        {
          "output_type": "execute_result",
          "data": {
            "text/plain": [
              "(20,)"
            ]
          },
          "metadata": {},
          "execution_count": 65
        }
      ]
    },
    {
      "cell_type": "code",
      "source": [
        "# Menampilkan elemen tertentu dari sebuah Series dapat dilakukan menggunakan indexnya\n",
        "print(\"Elemen dengan index `0` pada `nama_teman_series` adalah\", nama_teman_series[0])\n",
        "print(\"Elemen dengan index `0` pada `isi_kolom_sales` adalah\", isi_kolom_sales[0])\n",
        "print(\"Elemen dengan index `State` pada `isi_row_tertentu` adalah\", isi_row_tertentu['State'])"
      ],
      "metadata": {
        "id": "tZFS5wah0tJ1",
        "colab": {
          "base_uri": "https://localhost:8080/"
        },
        "outputId": "fb670585-98a6-4be5-b644-f1074f51af67"
      },
      "execution_count": 66,
      "outputs": [
        {
          "output_type": "stream",
          "name": "stdout",
          "text": [
            "Elemen dengan index `0` pada `nama_teman_series` adalah Amir\n",
            "Elemen dengan index `0` pada `isi_kolom_sales` adalah 261.96\n",
            "Elemen dengan index `State` pada `isi_row_tertentu` adalah Kentucky\n"
          ]
        }
      ]
    },
    {
      "cell_type": "markdown",
      "metadata": {
        "id": "jaqzhRxwrLh1"
      },
      "source": [
        "---\n",
        "## `Set`\n",
        "> `Set` adalah sebuah objek berisi koleksi objek yang *unordered*, bersifat unik, dan *hashable*.\n",
        "\n",
        "`Set` adalah sebuah tipe data di Python yang berisi kumpulan elemen unik dan *unordered*. Artinya, tidak ada elemen yang terduplikasi dalam `Set`, dan elemen-elemen di dalamnya tidak memiliki urutan tertentu seperti halnya pada *list* atau *tuple*. Ini berguna saat kita hanya perlu memastikan bahwa setiap item hanya muncul sekali.\n",
        "\n",
        "Setiap elemen dalam `Set` bersifat *hashable*, yang berarti elemen-elemen tersebut dapat memiliki nilai unik yang memudahkan Python untuk memproses dan mencari elemen dalam `Set` dengan cepat. Struktur data `Set` ini dioptimalkan untuk operasi keanggotaan (membership testing) dan perbandingan.\n",
        "\n",
        "Python menyediakan beberapa operasi bawaan yang efisien untuk bekerja dengan `Set`, seperti:\n",
        "- **Gabungan (Union)**, untuk menggabungkan dua atau lebih set.\n",
        "- **Irisan (Intersection)**, untuk mendapatkan elemen yang ada di kedua set.\n",
        "- **Selisih (Difference)**, untuk mendapatkan elemen yang ada di satu set tetapi tidak di set lain.\n",
        "- **Eksklusif (Symmetric Difference)**, untuk mendapatkan elemen yang hanya ada di salah satu set saja.\n",
        "\n",
        "Dalam praktek pengolahan data dengan menggunakan Python, `Set` sering digunakan untuk:\n",
        "- Menyaring duplikasi dari data.\n",
        "- Melakukan tes cepat apakah suatu item terdapat dalam kumpulan.\n",
        "- Melakukan operasi himpunan seperti penggabungan dan irisan pada data yang unik."
      ]
    },
    {
      "cell_type": "markdown",
      "metadata": {
        "id": "lXFsp506Liv4"
      },
      "source": [
        "### `Set` Construction\n",
        "Beberapa cara membuat set:\n",
        "1. Menggunakan `set constructor`:\n",
        "```python\n",
        "nama_set = set() # Membuat set kosong\n",
        "nama_set = set(iterable)\n",
        "```\n",
        "2. Menggunakan `type literals`:\n",
        "```python\n",
        "nama_set = {objek_1, objek_2, ..., objek_n}\n",
        "```"
      ]
    },
    {
      "cell_type": "code",
      "execution_count": 67,
      "metadata": {
        "id": "wgnrjwk_A4rN",
        "colab": {
          "base_uri": "https://localhost:8080/"
        },
        "outputId": "8870c982-2865-4984-bdc8-808ae9ee5ae4"
      },
      "outputs": [
        {
          "output_type": "stream",
          "name": "stdout",
          "text": [
            "{'Cinta', 'Beni', 'Amir', 'Dimas', 'Edi'}\n"
          ]
        }
      ],
      "source": [
        "# Membuat set dari list nama_teman menggunakan constructor\n",
        "\n",
        "nama_teman_set = set(nama_teman)\n",
        "print(nama_teman_set)"
      ]
    },
    {
      "cell_type": "code",
      "execution_count": 68,
      "metadata": {
        "id": "ahEti0sVH9C9",
        "colab": {
          "base_uri": "https://localhost:8080/"
        },
        "outputId": "e027773b-a561-4018-d461-2f2d09961b51"
      },
      "outputs": [
        {
          "output_type": "stream",
          "name": "stdout",
          "text": [
            "{'Rhoma', 'Soneta', 'Ridho', 'Ani'}\n"
          ]
        }
      ],
      "source": [
        "# Membuat set menggunakan literals\n",
        "\n",
        "teman_lama_set = {\"Rhoma\", \"Ani\", \"Ridho\", \"Soneta\"}\n",
        "print(teman_lama_set)"
      ]
    },
    {
      "cell_type": "markdown",
      "metadata": {
        "id": "J1rlldykEz60"
      },
      "source": [
        "### Growing & Shrinking `set`"
      ]
    },
    {
      "cell_type": "code",
      "execution_count": 69,
      "metadata": {
        "id": "C_wlJTlpKMT5",
        "colab": {
          "base_uri": "https://localhost:8080/"
        },
        "outputId": "ab00b47a-30ca-485c-9bcd-e4f9d23ac2b6"
      },
      "outputs": [
        {
          "output_type": "stream",
          "name": "stdout",
          "text": [
            "{'Cinta', 'Beni', 'Amir', 'Dimas', 'Edi', 'Ani'}\n"
          ]
        }
      ],
      "source": [
        "# Menambah sebuah elemen baru ke dalam set\n",
        "\n",
        "nama_teman_set.add('Ani')\n",
        "print(nama_teman_set)"
      ]
    },
    {
      "cell_type": "code",
      "execution_count": 70,
      "metadata": {
        "id": "R9CmV3mCCm2j",
        "colab": {
          "base_uri": "https://localhost:8080/"
        },
        "outputId": "b8c50185-b613-4eb6-ebd3-4ea5d94af5d4"
      },
      "outputs": [
        {
          "output_type": "stream",
          "name": "stdout",
          "text": [
            "{'Cinta', 'Beni', 'Amir', 'Firman', 'Dimas', 'Edi', 'Rudi', 'Ani'}\n"
          ]
        }
      ],
      "source": [
        "# Menambahkan sebuah set lain,\n",
        "\n",
        "nama_teman_set.update({'Firman','Rudi', 'Beni'})\n",
        "# Apa yang terjadi jika menambah elemen yang sudah ada sebelumnya??\n",
        "\n",
        "print(nama_teman_set)"
      ]
    },
    {
      "cell_type": "code",
      "execution_count": 71,
      "metadata": {
        "id": "BbEohvJVCt6h",
        "colab": {
          "base_uri": "https://localhost:8080/"
        },
        "outputId": "673e201b-2d6f-4bb0-b295-e0aedb582462"
      },
      "outputs": [
        {
          "output_type": "stream",
          "name": "stdout",
          "text": [
            "{'Cinta', 'Beni', 'Amir', 'Firman', 'Dimas', 'Edi', 'Ani'}\n"
          ]
        }
      ],
      "source": [
        "# Me-remove 'Rudi' dari himpunan\n",
        "\n",
        "nama_teman_set.remove('Rudi')\n",
        "\n",
        "print(nama_teman_set)"
      ]
    },
    {
      "cell_type": "code",
      "execution_count": 72,
      "metadata": {
        "id": "fY40xiHiC2f3",
        "colab": {
          "base_uri": "https://localhost:8080/",
          "height": 211
        },
        "outputId": "e0391c2e-7b9c-4df6-b50a-e32ea1674be0"
      },
      "outputs": [
        {
          "output_type": "error",
          "ename": "KeyError",
          "evalue": "'Tina'",
          "traceback": [
            "\u001b[0;31m---------------------------------------------------------------------------\u001b[0m",
            "\u001b[0;31mKeyError\u001b[0m                                  Traceback (most recent call last)",
            "\u001b[0;32m<ipython-input-72-167e1e4a467a>\u001b[0m in \u001b[0;36m<cell line: 3>\u001b[0;34m()\u001b[0m\n\u001b[1;32m      1\u001b[0m \u001b[0;31m# Apa yang terjadi jika mencoba untuk me-remove elemen yang tidak ada pada set??\u001b[0m\u001b[0;34m\u001b[0m\u001b[0;34m\u001b[0m\u001b[0m\n\u001b[1;32m      2\u001b[0m \u001b[0;34m\u001b[0m\u001b[0m\n\u001b[0;32m----> 3\u001b[0;31m \u001b[0mnama_teman_set\u001b[0m\u001b[0;34m.\u001b[0m\u001b[0mremove\u001b[0m\u001b[0;34m(\u001b[0m\u001b[0;34m'Tina'\u001b[0m\u001b[0;34m)\u001b[0m\u001b[0;34m\u001b[0m\u001b[0;34m\u001b[0m\u001b[0m\n\u001b[0m\u001b[1;32m      4\u001b[0m \u001b[0mprint\u001b[0m\u001b[0;34m(\u001b[0m\u001b[0mnama_teman_set\u001b[0m\u001b[0;34m)\u001b[0m\u001b[0;34m\u001b[0m\u001b[0;34m\u001b[0m\u001b[0m\n",
            "\u001b[0;31mKeyError\u001b[0m: 'Tina'"
          ]
        }
      ],
      "source": [
        "# Apa yang terjadi jika mencoba untuk me-remove elemen yang tidak ada pada set??\n",
        "\n",
        "nama_teman_set.remove('Tina')\n",
        "print(nama_teman_set)"
      ]
    },
    {
      "cell_type": "code",
      "execution_count": 73,
      "metadata": {
        "id": "2Rhif0mLCyWQ",
        "colab": {
          "base_uri": "https://localhost:8080/"
        },
        "outputId": "d565ca9e-f7c5-4e8e-9d44-7f42fe6b739c"
      },
      "outputs": [
        {
          "output_type": "stream",
          "name": "stdout",
          "text": [
            "{'Cinta', 'Beni', 'Amir', 'Dimas', 'Edi', 'Ani'}\n"
          ]
        }
      ],
      "source": [
        "# Men-discard 'Firman' dari set\n",
        "\n",
        "nama_teman_set.discard('Firman')\n",
        "\n",
        "print(nama_teman_set)"
      ]
    },
    {
      "cell_type": "code",
      "execution_count": 74,
      "metadata": {
        "id": "Aw4neUI5HU5_",
        "colab": {
          "base_uri": "https://localhost:8080/"
        },
        "outputId": "4a18b3b2-5f2e-4ee6-ff7c-bfd056d8666d"
      },
      "outputs": [
        {
          "output_type": "stream",
          "name": "stdout",
          "text": [
            "{'Cinta', 'Beni', 'Amir', 'Dimas', 'Edi', 'Ani'}\n"
          ]
        }
      ],
      "source": [
        "# Men-discard elemen yang tidak ada pada set\n",
        "\n",
        "nama_teman_set.discard('Paimin')\n",
        "print(nama_teman_set)"
      ]
    },
    {
      "cell_type": "markdown",
      "metadata": {
        "id": "Q59wcpT2IrxT"
      },
      "source": [
        "### *Common Sequence Operators*\n",
        "\n",
        "Karena perbedaan karakteristik elemen pada `set`, maka tidak seluruh *common sequence operators* dapat dikenakan. Berikut ini adalah beberapa operators yang dapat dikenakan terhadap sebuah `set`:"
      ]
    },
    {
      "cell_type": "code",
      "execution_count": 75,
      "metadata": {
        "id": "Pww11NJrO7pk",
        "colab": {
          "base_uri": "https://localhost:8080/"
        },
        "outputId": "33ad0e93-8060-4fef-cc14-6aced952daeb"
      },
      "outputs": [
        {
          "output_type": "stream",
          "name": "stdout",
          "text": [
            "Jumlah elemen pada nama_teman_set: 6 elemen\n"
          ]
        }
      ],
      "source": [
        "# Menampilkan jumlah elemen pada nama_teman_set\n",
        "print(f\"Jumlah elemen pada nama_teman_set: {len(nama_teman_set)} elemen\")"
      ]
    },
    {
      "cell_type": "code",
      "execution_count": 76,
      "metadata": {
        "id": "omK8DzYOOtJg",
        "colab": {
          "base_uri": "https://localhost:8080/",
          "height": 36
        },
        "outputId": "64e2dbd8-21f2-4eed-ab4e-ccc49e2e57ad"
      },
      "outputs": [
        {
          "output_type": "execute_result",
          "data": {
            "text/plain": [
              "'Edi'"
            ],
            "application/vnd.google.colaboratory.intrinsic+json": {
              "type": "string"
            }
          },
          "metadata": {},
          "execution_count": 76
        }
      ],
      "source": [
        "# Mencari nilai max\n",
        "max(nama_teman_set)"
      ]
    },
    {
      "cell_type": "code",
      "execution_count": 77,
      "metadata": {
        "id": "j9APrqioOtJg",
        "colab": {
          "base_uri": "https://localhost:8080/",
          "height": 36
        },
        "outputId": "a49e4db7-6156-45da-9d95-504e1c51efdc"
      },
      "outputs": [
        {
          "output_type": "execute_result",
          "data": {
            "text/plain": [
              "'Amir'"
            ],
            "application/vnd.google.colaboratory.intrinsic+json": {
              "type": "string"
            }
          },
          "metadata": {},
          "execution_count": 77
        }
      ],
      "source": [
        "# Mencari nilai min\n",
        "min(nama_teman_set)"
      ]
    },
    {
      "cell_type": "code",
      "execution_count": 78,
      "metadata": {
        "id": "2_wDacRGOtJg",
        "colab": {
          "base_uri": "https://localhost:8080/"
        },
        "outputId": "cfbd9224-c3db-42d4-c1f9-a2b448367631"
      },
      "outputs": [
        {
          "output_type": "execute_result",
          "data": {
            "text/plain": [
              "True"
            ]
          },
          "metadata": {},
          "execution_count": 78
        }
      ],
      "source": [
        "# Melakukan pengecekan keberadaan 'Ani' pada nama_teman_set\n",
        "'Ani' in nama_teman_set"
      ]
    },
    {
      "cell_type": "code",
      "execution_count": 79,
      "metadata": {
        "id": "YzLj800SOtJg",
        "colab": {
          "base_uri": "https://localhost:8080/"
        },
        "outputId": "16dc50f7-dfec-42fa-87f1-7b017320b187"
      },
      "outputs": [
        {
          "output_type": "execute_result",
          "data": {
            "text/plain": [
              "False"
            ]
          },
          "metadata": {},
          "execution_count": 79
        }
      ],
      "source": [
        "# Melakukan pengecekan ketidak-adaan 'Ani' pada nama_teman_set\n",
        "'Ani' not in nama_teman_set"
      ]
    },
    {
      "cell_type": "markdown",
      "source": [
        "### `Set` Operations & Methods"
      ],
      "metadata": {
        "id": "FWR0u2qqRPlU"
      }
    },
    {
      "cell_type": "code",
      "execution_count": 80,
      "metadata": {
        "id": "l8ALKKIfDTLH",
        "colab": {
          "base_uri": "https://localhost:8080/"
        },
        "outputId": "39171719-5a22-48ec-f0be-df533a2f615f"
      },
      "outputs": [
        {
          "output_type": "stream",
          "name": "stdout",
          "text": [
            "Union dari nama_teman_set & teman_lama_set: {'Cinta', 'Amir', 'Beni', 'Ridho', 'Rhoma', 'Soneta', 'Dimas', 'Edi', 'Ani'}\n"
          ]
        }
      ],
      "source": [
        "# Menggabungkan dua buah set dengan method 'union()'\n",
        "\n",
        "print(f\"Union dari nama_teman_set & teman_lama_set: {nama_teman_set.union(teman_lama_set)}\")"
      ]
    },
    {
      "cell_type": "code",
      "execution_count": 81,
      "metadata": {
        "id": "qTdD3pxHS705",
        "colab": {
          "base_uri": "https://localhost:8080/"
        },
        "outputId": "925894c6-ea81-4eab-cc7f-1224ffc5746c"
      },
      "outputs": [
        {
          "output_type": "stream",
          "name": "stdout",
          "text": [
            "Union dari nama_teman_set & teman_lama_set: {'Cinta', 'Amir', 'Beni', 'Ridho', 'Rhoma', 'Soneta', 'Dimas', 'Edi', 'Ani'}\n"
          ]
        }
      ],
      "source": [
        "# Menggabungkan dua buah set dengan operator '|'\n",
        "\n",
        "print(f\"Union dari nama_teman_set & teman_lama_set: {nama_teman_set | teman_lama_set}\")"
      ]
    },
    {
      "cell_type": "code",
      "execution_count": 82,
      "metadata": {
        "id": "ugqbj_qDC_gL",
        "colab": {
          "base_uri": "https://localhost:8080/"
        },
        "outputId": "666da663-136e-464a-a4b3-8f09cf6bb5de"
      },
      "outputs": [
        {
          "output_type": "stream",
          "name": "stdout",
          "text": [
            "Elemen nama_teman_set yang tidak ada pada teman_lama_set: {'Cinta', 'Amir', 'Beni', 'Dimas', 'Edi'}\n"
          ]
        }
      ],
      "source": [
        "# Mencari elemen yang berbeda pada dua buah set dengan method 'difference()'\n",
        "\n",
        "print(f\"Elemen nama_teman_set yang tidak ada pada teman_lama_set: {nama_teman_set.difference(teman_lama_set)}\")"
      ]
    },
    {
      "cell_type": "code",
      "execution_count": 83,
      "metadata": {
        "id": "bxScuT_oTIkq",
        "colab": {
          "base_uri": "https://localhost:8080/"
        },
        "outputId": "d76abec6-2ed2-4a62-b415-b866c9eece3b"
      },
      "outputs": [
        {
          "output_type": "stream",
          "name": "stdout",
          "text": [
            "Elemen nama_teman_set yang tidak ada pada teman_lama_set: {'Cinta', 'Amir', 'Beni', 'Dimas', 'Edi'}\n"
          ]
        }
      ],
      "source": [
        "# Mencari elemen yang berbeda pada dua buah set dengan operator '-'\n",
        "\n",
        "print(f\"Elemen nama_teman_set yang tidak ada pada teman_lama_set: {nama_teman_set - teman_lama_set}\")"
      ]
    },
    {
      "cell_type": "code",
      "execution_count": 84,
      "metadata": {
        "id": "dJ1lYuGHDI3G",
        "colab": {
          "base_uri": "https://localhost:8080/"
        },
        "outputId": "19c87ad7-e1a6-40ac-e5d9-358e67effecd"
      },
      "outputs": [
        {
          "output_type": "stream",
          "name": "stdout",
          "text": [
            "Elemen nama_teman_set yang beririsan dengan teman_lama_set: {'Ani'}\n"
          ]
        }
      ],
      "source": [
        "# Mencari elemen yang beririsan pada dua buah set dengan method 'intersection()'\n",
        "\n",
        "print(f\"Elemen nama_teman_set yang beririsan dengan teman_lama_set: {nama_teman_set.intersection(teman_lama_set)}\")"
      ]
    },
    {
      "cell_type": "code",
      "source": [
        "# Mencari elemen yang beririsan pada dua buah set dengan operator '&'\n",
        "\n",
        "print(f\"Elemen nama_teman_set yang beririsan dengan teman_lama_set: {nama_teman_set & teman_lama_set}\")"
      ],
      "metadata": {
        "id": "oqwB3CW9TUnW",
        "colab": {
          "base_uri": "https://localhost:8080/"
        },
        "outputId": "f92d5837-03d5-4560-ccbd-73587470fc9b"
      },
      "execution_count": 85,
      "outputs": [
        {
          "output_type": "stream",
          "name": "stdout",
          "text": [
            "Elemen nama_teman_set yang beririsan dengan teman_lama_set: {'Ani'}\n"
          ]
        }
      ]
    },
    {
      "cell_type": "markdown",
      "source": [
        "___\n",
        "### `SET` EXERCISE\n",
        "1. Buat sebuah object `pd.Series` berisi setiap elemen pada kolom `State` pada `df_sales`;\n",
        "2. Cek Tipe object yang dihasilkan proses di atas;\n",
        "3. Cek jumlah elemen pada object tersebut;\n",
        "4. Ubah object tersebut menjadi sebuah `set`;\n",
        "5. Cek jumlah elemen pada `set` tersebut;\n",
        "6. Cek isi dari `set` tersebut;\n",
        "7. Cobalah untuk melihat elemen urutan pertama dari `set` tersebut;\n",
        "8. Tampilkan ke layar setiap elemen pada `set` tersebut menggunakan loop.\n"
      ],
      "metadata": {
        "id": "z2i_C8Z2VYMY"
      }
    },
    {
      "cell_type": "code",
      "source": [
        "# Buat series assign ke variabel `States_Recorded`\n",
        "States_Recorded = df_sales['State']"
      ],
      "metadata": {
        "id": "VwLrE5_cVcs7"
      },
      "execution_count": 86,
      "outputs": []
    },
    {
      "cell_type": "code",
      "source": [
        "# Cek Tipe data\n",
        "type(States_Recorded)"
      ],
      "metadata": {
        "id": "BD0T6cMCcxRc",
        "colab": {
          "base_uri": "https://localhost:8080/",
          "height": 203
        },
        "outputId": "f33a9cb3-2ff0-4b81-a1b6-5b4ddbb88fe3"
      },
      "execution_count": 87,
      "outputs": [
        {
          "output_type": "execute_result",
          "data": {
            "text/plain": [
              "pandas.core.series.Series"
            ],
            "text/html": [
              "<div style=\"max-width:800px; border: 1px solid var(--colab-border-color);\"><style>\n",
              "      pre.function-repr-contents {\n",
              "        overflow-x: auto;\n",
              "        padding: 8px 12px;\n",
              "        max-height: 500px;\n",
              "      }\n",
              "\n",
              "      pre.function-repr-contents.function-repr-contents-collapsed {\n",
              "        cursor: pointer;\n",
              "        max-height: 100px;\n",
              "      }\n",
              "    </style>\n",
              "    <pre style=\"white-space: initial; background:\n",
              "         var(--colab-secondary-surface-color); padding: 8px 12px;\n",
              "         border-bottom: 1px solid var(--colab-border-color);\"><b>pandas.core.series.Series</b><br/>def __init__(data=None, index=None, dtype: Dtype | None=None, name=None, copy: bool | None=None, fastpath: bool | lib.NoDefault=lib.no_default) -&gt; None</pre><pre class=\"function-repr-contents function-repr-contents-collapsed\" style=\"\"><a class=\"filepath\" style=\"display:none\" href=\"#\">/usr/local/lib/python3.10/dist-packages/pandas/core/series.py</a>One-dimensional ndarray with axis labels (including time series).\n",
              "\n",
              "Labels need not be unique but must be a hashable type. The object\n",
              "supports both integer- and label-based indexing and provides a host of\n",
              "methods for performing operations involving the index. Statistical\n",
              "methods from ndarray have been overridden to automatically exclude\n",
              "missing data (currently represented as NaN).\n",
              "\n",
              "Operations between Series (+, -, /, \\*, \\*\\*) align values based on their\n",
              "associated index values-- they need not be the same length. The result\n",
              "index will be the sorted union of the two indexes.\n",
              "\n",
              "Parameters\n",
              "----------\n",
              "data : array-like, Iterable, dict, or scalar value\n",
              "    Contains data stored in Series. If data is a dict, argument order is\n",
              "    maintained.\n",
              "index : array-like or Index (1d)\n",
              "    Values must be hashable and have the same length as `data`.\n",
              "    Non-unique index values are allowed. Will default to\n",
              "    RangeIndex (0, 1, 2, ..., n) if not provided. If data is dict-like\n",
              "    and index is None, then the keys in the data are used as the index. If the\n",
              "    index is not None, the resulting Series is reindexed with the index values.\n",
              "dtype : str, numpy.dtype, or ExtensionDtype, optional\n",
              "    Data type for the output Series. If not specified, this will be\n",
              "    inferred from `data`.\n",
              "    See the :ref:`user guide &lt;basics.dtypes&gt;` for more usages.\n",
              "name : Hashable, default None\n",
              "    The name to give to the Series.\n",
              "copy : bool, default False\n",
              "    Copy input data. Only affects Series or 1d ndarray input. See examples.\n",
              "\n",
              "Notes\n",
              "-----\n",
              "Please reference the :ref:`User Guide &lt;basics.series&gt;` for more information.\n",
              "\n",
              "Examples\n",
              "--------\n",
              "Constructing Series from a dictionary with an Index specified\n",
              "\n",
              "&gt;&gt;&gt; d = {&#x27;a&#x27;: 1, &#x27;b&#x27;: 2, &#x27;c&#x27;: 3}\n",
              "&gt;&gt;&gt; ser = pd.Series(data=d, index=[&#x27;a&#x27;, &#x27;b&#x27;, &#x27;c&#x27;])\n",
              "&gt;&gt;&gt; ser\n",
              "a   1\n",
              "b   2\n",
              "c   3\n",
              "dtype: int64\n",
              "\n",
              "The keys of the dictionary match with the Index values, hence the Index\n",
              "values have no effect.\n",
              "\n",
              "&gt;&gt;&gt; d = {&#x27;a&#x27;: 1, &#x27;b&#x27;: 2, &#x27;c&#x27;: 3}\n",
              "&gt;&gt;&gt; ser = pd.Series(data=d, index=[&#x27;x&#x27;, &#x27;y&#x27;, &#x27;z&#x27;])\n",
              "&gt;&gt;&gt; ser\n",
              "x   NaN\n",
              "y   NaN\n",
              "z   NaN\n",
              "dtype: float64\n",
              "\n",
              "Note that the Index is first build with the keys from the dictionary.\n",
              "After this the Series is reindexed with the given Index values, hence we\n",
              "get all NaN as a result.\n",
              "\n",
              "Constructing Series from a list with `copy=False`.\n",
              "\n",
              "&gt;&gt;&gt; r = [1, 2]\n",
              "&gt;&gt;&gt; ser = pd.Series(r, copy=False)\n",
              "&gt;&gt;&gt; ser.iloc[0] = 999\n",
              "&gt;&gt;&gt; r\n",
              "[1, 2]\n",
              "&gt;&gt;&gt; ser\n",
              "0    999\n",
              "1      2\n",
              "dtype: int64\n",
              "\n",
              "Due to input data type the Series has a `copy` of\n",
              "the original data even though `copy=False`, so\n",
              "the data is unchanged.\n",
              "\n",
              "Constructing Series from a 1d ndarray with `copy=False`.\n",
              "\n",
              "&gt;&gt;&gt; r = np.array([1, 2])\n",
              "&gt;&gt;&gt; ser = pd.Series(r, copy=False)\n",
              "&gt;&gt;&gt; ser.iloc[0] = 999\n",
              "&gt;&gt;&gt; r\n",
              "array([999,   2])\n",
              "&gt;&gt;&gt; ser\n",
              "0    999\n",
              "1      2\n",
              "dtype: int64\n",
              "\n",
              "Due to input data type the Series has a `view` on\n",
              "the original data, so\n",
              "the data is changed as well.</pre>\n",
              "      <script>\n",
              "      if (google.colab.kernel.accessAllowed && google.colab.files && google.colab.files.view) {\n",
              "        for (const element of document.querySelectorAll('.filepath')) {\n",
              "          element.style.display = 'block'\n",
              "          element.onclick = (event) => {\n",
              "            event.preventDefault();\n",
              "            event.stopPropagation();\n",
              "            google.colab.files.view(element.textContent, 263);\n",
              "          };\n",
              "        }\n",
              "      }\n",
              "      for (const element of document.querySelectorAll('.function-repr-contents')) {\n",
              "        element.onclick = (event) => {\n",
              "          event.preventDefault();\n",
              "          event.stopPropagation();\n",
              "          element.classList.toggle('function-repr-contents-collapsed');\n",
              "        };\n",
              "      }\n",
              "      </script>\n",
              "      </div>"
            ]
          },
          "metadata": {},
          "execution_count": 87
        }
      ]
    },
    {
      "cell_type": "code",
      "source": [
        "# Check panjang dari series\n",
        "len(States_Recorded)"
      ],
      "metadata": {
        "id": "eAuKRoZbb5aI",
        "colab": {
          "base_uri": "https://localhost:8080/"
        },
        "outputId": "d4bcea32-b204-4cf9-d957-2d1dc34e88be"
      },
      "execution_count": 88,
      "outputs": [
        {
          "output_type": "execute_result",
          "data": {
            "text/plain": [
              "9994"
            ]
          },
          "metadata": {},
          "execution_count": 88
        }
      ]
    },
    {
      "cell_type": "code",
      "source": [
        "# Buat sebuah set dari `States_Recorded` assign ke variabel `States_Set`\n",
        "States_Set = set(States_Recorded)"
      ],
      "metadata": {
        "id": "6eq3FfBDZIrx"
      },
      "execution_count": 89,
      "outputs": []
    },
    {
      "cell_type": "code",
      "source": [
        "# Cek panjang dari set\n",
        "len(States_Set)"
      ],
      "metadata": {
        "id": "OVMmvwVBj545",
        "colab": {
          "base_uri": "https://localhost:8080/"
        },
        "outputId": "5e4bceb2-4ede-4df5-bb41-e2e47ae92710"
      },
      "execution_count": 90,
      "outputs": [
        {
          "output_type": "execute_result",
          "data": {
            "text/plain": [
              "49"
            ]
          },
          "metadata": {},
          "execution_count": 90
        }
      ]
    },
    {
      "cell_type": "code",
      "source": [
        "# Lihat isi dari Set\n",
        "States_Set"
      ],
      "metadata": {
        "id": "hcVX_D8NjfA5",
        "colab": {
          "base_uri": "https://localhost:8080/"
        },
        "outputId": "205122ad-8379-4977-fbe8-0badba423a29"
      },
      "execution_count": 91,
      "outputs": [
        {
          "output_type": "execute_result",
          "data": {
            "text/plain": [
              "{'Alabama',\n",
              " 'Arizona',\n",
              " 'Arkansas',\n",
              " 'California',\n",
              " 'Colorado',\n",
              " 'Connecticut',\n",
              " 'Delaware',\n",
              " 'District of Columbia',\n",
              " 'Florida',\n",
              " 'Georgia',\n",
              " 'Idaho',\n",
              " 'Illinois',\n",
              " 'Indiana',\n",
              " 'Iowa',\n",
              " 'Kansas',\n",
              " 'Kentucky',\n",
              " 'Louisiana',\n",
              " 'Maine',\n",
              " 'Maryland',\n",
              " 'Massachusetts',\n",
              " 'Michigan',\n",
              " 'Minnesota',\n",
              " 'Mississippi',\n",
              " 'Missouri',\n",
              " 'Montana',\n",
              " 'Nebraska',\n",
              " 'Nevada',\n",
              " 'New Hampshire',\n",
              " 'New Jersey',\n",
              " 'New Mexico',\n",
              " 'New York',\n",
              " 'North Carolina',\n",
              " 'North Dakota',\n",
              " 'Ohio',\n",
              " 'Oklahoma',\n",
              " 'Oregon',\n",
              " 'Pennsylvania',\n",
              " 'Rhode Island',\n",
              " 'South Carolina',\n",
              " 'South Dakota',\n",
              " 'Tennessee',\n",
              " 'Texas',\n",
              " 'Utah',\n",
              " 'Vermont',\n",
              " 'Virginia',\n",
              " 'Washington',\n",
              " 'West Virginia',\n",
              " 'Wisconsin',\n",
              " 'Wyoming'}"
            ]
          },
          "metadata": {},
          "execution_count": 91
        }
      ]
    },
    {
      "cell_type": "code",
      "source": [
        "# Cobalah untuk melihat elemen pertama\n",
        "States_Set[0]"
      ],
      "metadata": {
        "id": "7hZDwGVrkg3M",
        "colab": {
          "base_uri": "https://localhost:8080/",
          "height": 158
        },
        "outputId": "63e2d6eb-4dc2-4ae1-9390-6b3fdfe9f49b"
      },
      "execution_count": 93,
      "outputs": [
        {
          "output_type": "error",
          "ename": "TypeError",
          "evalue": "'set' object is not subscriptable",
          "traceback": [
            "\u001b[0;31m---------------------------------------------------------------------------\u001b[0m",
            "\u001b[0;31mTypeError\u001b[0m                                 Traceback (most recent call last)",
            "\u001b[0;32m<ipython-input-93-02b97335d05c>\u001b[0m in \u001b[0;36m<cell line: 2>\u001b[0;34m()\u001b[0m\n\u001b[1;32m      1\u001b[0m \u001b[0;31m# Cobalah untuk melihat elemen pertama\u001b[0m\u001b[0;34m\u001b[0m\u001b[0;34m\u001b[0m\u001b[0m\n\u001b[0;32m----> 2\u001b[0;31m \u001b[0mStates_Set\u001b[0m\u001b[0;34m[\u001b[0m\u001b[0;36m0\u001b[0m\u001b[0;34m]\u001b[0m\u001b[0;34m\u001b[0m\u001b[0;34m\u001b[0m\u001b[0m\n\u001b[0m",
            "\u001b[0;31mTypeError\u001b[0m: 'set' object is not subscriptable"
          ]
        }
      ]
    },
    {
      "cell_type": "code",
      "source": [
        "# Print setiap elemen pada States_Set menggunakan for loop\n",
        "for state in States_Set:\n",
        " print(state)"
      ],
      "metadata": {
        "id": "BRSREdmlk2tM",
        "colab": {
          "base_uri": "https://localhost:8080/"
        },
        "outputId": "ea8ee643-247d-4e62-d362-8f48493b5376"
      },
      "execution_count": 100,
      "outputs": [
        {
          "output_type": "stream",
          "name": "stdout",
          "text": [
            "Arizona\n",
            "Nebraska\n",
            "Indiana\n",
            "Vermont\n",
            "Virginia\n",
            "Missouri\n",
            "New Mexico\n",
            "North Carolina\n",
            "Massachusetts\n",
            "Florida\n",
            "Wisconsin\n",
            "Rhode Island\n",
            "District of Columbia\n",
            "Alabama\n",
            "Iowa\n",
            "New Jersey\n",
            "Kentucky\n",
            "Wyoming\n",
            "Michigan\n",
            "Tennessee\n",
            "Minnesota\n",
            "Oklahoma\n",
            "Maryland\n",
            "South Dakota\n",
            "Washington\n",
            "West Virginia\n",
            "South Carolina\n",
            "Louisiana\n",
            "North Dakota\n",
            "Utah\n",
            "Ohio\n",
            "Nevada\n",
            "Montana\n",
            "New York\n",
            "Mississippi\n",
            "Idaho\n",
            "Texas\n",
            "Maine\n",
            "Arkansas\n",
            "Georgia\n",
            "Delaware\n",
            "New Hampshire\n",
            "Illinois\n",
            "Colorado\n",
            "California\n",
            "Oregon\n",
            "Kansas\n",
            "Connecticut\n",
            "Pennsylvania\n"
          ]
        }
      ]
    },
    {
      "cell_type": "markdown",
      "metadata": {
        "id": "TXlh9tERrM-H"
      },
      "source": [
        "---\n",
        "## `Dictionary`\n",
        "> `Dictionary` adalah struktur data dalam Python yang menyimpan data dalam bentuk pasangan *key*--*value*, merupakan jenis data yang sangat berguna saat kita ingin mengasosiasikan atau melakukan pemetaan data.\n",
        "\n",
        "Dictionary memiliki karakteristik sebagai berikut:\n",
        "- ***Unordered***: Urutan pasangan `key-value` dalam `dictionary` tidak dijamin konsisten dan bisa berubah seiring waktu.\n",
        "- ***Mutable***: Dimungkinkan untuk mengubah, menambah, atau menghapus pasangan `key-value` setelah `dictionary` dibuat.\n",
        "- ***Indexed by Keys***: Akses elemen `dictionary` dilakukan menggunakan `key`, bukan posisi index seperti pada `list`.\n",
        "- ***Unique Keys***: Setiap *key* dalam `dictionary` harus unik. Jika terdapat `value` dengan `key` terduplikat, maka value terakhir yang ditambahkan akan otomatis menggantikan `value` sebelumnya.\n",
        "- ***Heterogeneous Values***: `value` yang disimpan dalam `dictionary` dapat berupa objek dengan tipe data apa pun, termasuk `list`, `tuple`, `set`, atau bahkan `dictionary` lainnya."
      ]
    },
    {
      "cell_type": "markdown",
      "source": [
        "### `Dictionary` Construction\n",
        "Beberapa cara yang lazim digunakan untuk menyusun `dictionary`:\n",
        "1. `type literals`:\n",
        "```python\n",
        "nama_dictionary = {} # Membuat dictionary kosong\n",
        "nama_dictionary = {\n",
        "  'key_1': 'value_1',\n",
        "  'key_2': 'value_2',\n",
        "  'key_n': 'value_n'\n",
        "}\n",
        "```\n",
        "2. `dict constructor`:\n",
        "```python\n",
        "nama_dictionary = dict() # Membuat dictionary kosong\n",
        "nama_dictionary = dict(\n",
        "   key_1='value_1',\n",
        "   key_2='value_2',\n",
        "   key_n='value_n'\n",
        ")\n",
        "```\n",
        "3. `zip method`:\n",
        "```python\n",
        "keys = ['key1', 'key2', 'key3']\n",
        "values = ['value1', 'value2', 'value3']\n",
        "nama_dict = dict(zip(keys, values))\n",
        "```"
      ],
      "metadata": {
        "id": "_QI9MQ0rgH15"
      }
    },
    {
      "cell_type": "code",
      "execution_count": 101,
      "metadata": {
        "id": "YIXprrdEkAkX",
        "colab": {
          "base_uri": "https://localhost:8080/"
        },
        "outputId": "ad50e179-e5c2-4bef-94cd-a08649b73d53"
      },
      "outputs": [
        {
          "output_type": "stream",
          "name": "stdout",
          "text": [
            "{'Nama': 'Dicky', 'Usia': 30, 'Role': 'Data Analyst', 'Dept': 'Marketing'}\n"
          ]
        }
      ],
      "source": [
        "# Membuat dictionary dengan literals\n",
        "\n",
        "pegawai_1 = {\n",
        "\t'Nama': 'Dicky',\n",
        "\t'Usia': 30,\n",
        "\t'Role': 'Data Analyst',\n",
        "\t'Dept': 'Marketing'\n",
        "}\n",
        "print(pegawai_1)"
      ]
    },
    {
      "cell_type": "code",
      "source": [
        "# Membuat dictionary dengan constructor\n",
        "\n",
        "pegawai_2 = dict(\n",
        "    Nama='Dika',\n",
        "    Usia=25,\n",
        "    Role='Data Analyst',\n",
        "    Dept='Marketing'\n",
        ")\n",
        "print(pegawai_2)"
      ],
      "metadata": {
        "id": "mpuHsM4OhuOE",
        "colab": {
          "base_uri": "https://localhost:8080/"
        },
        "outputId": "5526ba53-c22a-402d-b654-ff491a2125c8"
      },
      "execution_count": 102,
      "outputs": [
        {
          "output_type": "stream",
          "name": "stdout",
          "text": [
            "{'Nama': 'Dika', 'Usia': 25, 'Role': 'Data Analyst', 'Dept': 'Marketing'}\n"
          ]
        }
      ]
    },
    {
      "cell_type": "markdown",
      "source": [
        "### Accessing elements of `dictionary`"
      ],
      "metadata": {
        "id": "us0Ck0k9kBnn"
      }
    },
    {
      "cell_type": "code",
      "execution_count": 103,
      "metadata": {
        "id": "Li8_-BDEs7WW",
        "colab": {
          "base_uri": "https://localhost:8080/",
          "height": 211
        },
        "outputId": "1d2775ca-b3bc-488f-d13b-69ac3a4f2bd5"
      },
      "outputs": [
        {
          "output_type": "stream",
          "name": "stdout",
          "text": [
            "Dicky\n"
          ]
        },
        {
          "output_type": "error",
          "ename": "KeyError",
          "evalue": "'Gaji'",
          "traceback": [
            "\u001b[0;31m---------------------------------------------------------------------------\u001b[0m",
            "\u001b[0;31mKeyError\u001b[0m                                  Traceback (most recent call last)",
            "\u001b[0;32m<ipython-input-103-92ce078d3045>\u001b[0m in \u001b[0;36m<cell line: 4>\u001b[0;34m()\u001b[0m\n\u001b[1;32m      2\u001b[0m \u001b[0;34m\u001b[0m\u001b[0m\n\u001b[1;32m      3\u001b[0m \u001b[0mprint\u001b[0m\u001b[0;34m(\u001b[0m\u001b[0mpegawai_1\u001b[0m\u001b[0;34m[\u001b[0m\u001b[0;34m'Nama'\u001b[0m\u001b[0;34m]\u001b[0m\u001b[0;34m)\u001b[0m\u001b[0;34m\u001b[0m\u001b[0;34m\u001b[0m\u001b[0m\n\u001b[0;32m----> 4\u001b[0;31m \u001b[0mprint\u001b[0m\u001b[0;34m(\u001b[0m\u001b[0mpegawai_1\u001b[0m\u001b[0;34m[\u001b[0m\u001b[0;34m'Gaji'\u001b[0m\u001b[0;34m]\u001b[0m\u001b[0;34m)\u001b[0m \u001b[0;31m# Memanggil key yang tidak terdapat pada dictionary akan menyebabkan error\u001b[0m\u001b[0;34m\u001b[0m\u001b[0;34m\u001b[0m\u001b[0m\n\u001b[0m",
            "\u001b[0;31mKeyError\u001b[0m: 'Gaji'"
          ]
        }
      ],
      "source": [
        "# Memanggil value dari dictionary menggunakan key\n",
        "\n",
        "print(pegawai_1['Nama'])\n",
        "print(pegawai_1['Gaji']) # Memanggil key yang tidak terdapat pada dictionary akan menyebabkan error"
      ]
    },
    {
      "cell_type": "code",
      "source": [
        "# Memanggil value dari dictionary menggunakan method 'get()'\n",
        "\n",
        "print(pegawai_1.get('Nama'))\n",
        "print(pegawai_1.get('Gaji')) # Memanggil key yang tidak ada, tidak menyebabkan error\n",
        "print(pegawai_1.get('Gaji', 'Key tersebut tidak ada!'))"
      ],
      "metadata": {
        "id": "k-I6YksTkgB0",
        "colab": {
          "base_uri": "https://localhost:8080/"
        },
        "outputId": "987fe30e-4628-4097-edaa-518d2aff2aa6"
      },
      "execution_count": 104,
      "outputs": [
        {
          "output_type": "stream",
          "name": "stdout",
          "text": [
            "Dicky\n",
            "None\n",
            "Key tersebut tidak ada!\n"
          ]
        }
      ]
    },
    {
      "cell_type": "markdown",
      "source": [
        "### Growing and Shrinking `dictionary`"
      ],
      "metadata": {
        "id": "_bQhl8IhlmUC"
      }
    },
    {
      "cell_type": "code",
      "execution_count": 105,
      "metadata": {
        "id": "6iyvfORls9z0",
        "colab": {
          "base_uri": "https://localhost:8080/"
        },
        "outputId": "121ab3d1-3076-4385-ca3b-6bd40e796ec8"
      },
      "outputs": [
        {
          "output_type": "stream",
          "name": "stdout",
          "text": [
            "{'Nama': 'Ricky', 'Usia': 30, 'Role': 'Data Analyst', 'Dept': 'Marketing'}\n"
          ]
        }
      ],
      "source": [
        "# Mengganti nilai pada dictionary\n",
        "\n",
        "pegawai_1['Nama'] = 'Ricky'\n",
        "\n",
        "print(pegawai_1)"
      ]
    },
    {
      "cell_type": "code",
      "execution_count": 106,
      "metadata": {
        "id": "btXvZzcctAe_",
        "colab": {
          "base_uri": "https://localhost:8080/"
        },
        "outputId": "6064494c-b28a-46a6-bd69-19a571ac0819"
      },
      "outputs": [
        {
          "output_type": "stream",
          "name": "stdout",
          "text": [
            "{'Nama': 'Ricky', 'Usia': 30, 'Role': 'Data Analyst', 'Dept': 'Marketing', 'Gaji': 10000000}\n",
            "{'Nama': 'Dika', 'Usia': 25, 'Role': 'Data Analyst', 'Dept': 'Marketing', 'Gaji': 9500000}\n"
          ]
        }
      ],
      "source": [
        "# Menambahkan key baru beserta valuenya\n",
        "\n",
        "pegawai_1['Gaji'] = 10_000_000\n",
        "pegawai_2['Gaji'] = 9_500_000\n",
        "\n",
        "print(pegawai_1)\n",
        "print(pegawai_2)"
      ]
    },
    {
      "cell_type": "code",
      "execution_count": 107,
      "metadata": {
        "id": "j_7U3L22tBTR",
        "colab": {
          "base_uri": "https://localhost:8080/"
        },
        "outputId": "b5972311-15ba-4473-aea9-0ea4355d0fb7"
      },
      "outputs": [
        {
          "output_type": "stream",
          "name": "stdout",
          "text": [
            "{'Nama': 'Ricky', 'Usia': 30, 'Role': 'Data Analyst', 'Dept': 'Marketing'}\n",
            "{'Nama': 'Dika', 'Usia': 25, 'Role': 'Data Analyst', 'Dept': 'Marketing'}\n"
          ]
        }
      ],
      "source": [
        "# Menghapus key beserta valuenya\n",
        "\n",
        "del pegawai_1['Gaji']\n",
        "del pegawai_2['Gaji']\n",
        "\n",
        "print(pegawai_1)\n",
        "print(pegawai_2)"
      ]
    },
    {
      "cell_type": "markdown",
      "source": [
        "### `Dictionary` methods"
      ],
      "metadata": {
        "id": "f8XizLr5l0pf"
      }
    },
    {
      "cell_type": "code",
      "execution_count": 108,
      "metadata": {
        "id": "onRJzBXktK64",
        "colab": {
          "base_uri": "https://localhost:8080/"
        },
        "outputId": "f058dd08-0047-4530-9bb1-edf8277c31ca"
      },
      "outputs": [
        {
          "output_type": "execute_result",
          "data": {
            "text/plain": [
              "dict_keys(['Nama', 'Usia', 'Role', 'Dept'])"
            ]
          },
          "metadata": {},
          "execution_count": 108
        }
      ],
      "source": [
        "# Menampilkan daftar key dari dictionary\n",
        "\n",
        "pegawai_1.keys()"
      ]
    },
    {
      "cell_type": "code",
      "execution_count": 109,
      "metadata": {
        "id": "YCIxOTZMuLPk",
        "colab": {
          "base_uri": "https://localhost:8080/"
        },
        "outputId": "62a3561a-e97b-4832-8231-5e980c272ed5"
      },
      "outputs": [
        {
          "output_type": "execute_result",
          "data": {
            "text/plain": [
              "dict_values(['Ricky', 30, 'Data Analyst', 'Marketing'])"
            ]
          },
          "metadata": {},
          "execution_count": 109
        }
      ],
      "source": [
        "# Menampilkan daftar values\n",
        "\n",
        "pegawai_1.values()"
      ]
    },
    {
      "cell_type": "code",
      "execution_count": 110,
      "metadata": {
        "id": "7wvf6JiuuMep",
        "colab": {
          "base_uri": "https://localhost:8080/"
        },
        "outputId": "ffc0d6af-a526-4764-9092-e5bdb401f385"
      },
      "outputs": [
        {
          "output_type": "execute_result",
          "data": {
            "text/plain": [
              "dict_items([('Nama', 'Ricky'), ('Usia', 30), ('Role', 'Data Analyst'), ('Dept', 'Marketing')])"
            ]
          },
          "metadata": {},
          "execution_count": 110
        }
      ],
      "source": [
        "# Menampilkan pasangan key value dalam bentuk list of tuples\n",
        "\n",
        "pegawai_1.items()"
      ]
    },
    {
      "cell_type": "code",
      "execution_count": 111,
      "metadata": {
        "id": "-_fzyG_XuNoa",
        "colab": {
          "base_uri": "https://localhost:8080/"
        },
        "outputId": "a4240da0-c9a8-4ca5-d12e-cc7d58351463"
      },
      "outputs": [
        {
          "output_type": "stream",
          "name": "stdout",
          "text": [
            "{'Nama': 'Ricky', 'Usia': 30, 'Role': 'Data Analyst', 'Dept': 'Marketing'}\n"
          ]
        }
      ],
      "source": [
        "# menyalin dictionary\n",
        "\n",
        "copy_of_pegawai_1 = pegawai_1.copy()\n",
        "print(copy_of_pegawai_1)"
      ]
    },
    {
      "cell_type": "code",
      "execution_count": 112,
      "metadata": {
        "id": "d0Ozu2fDOfOc",
        "colab": {
          "base_uri": "https://localhost:8080/"
        },
        "outputId": "c8a7c634-4191-401b-ca43-f8a21eb3848b"
      },
      "outputs": [
        {
          "output_type": "stream",
          "name": "stdout",
          "text": [
            "{}\n"
          ]
        }
      ],
      "source": [
        "# menghapus seluruh isi dictionary\n",
        "\n",
        "copy_of_pegawai_1.clear()\n",
        "print(copy_of_pegawai_1)"
      ]
    },
    {
      "cell_type": "code",
      "source": [
        "# Menampilkan data yang disimpan pada sebuah dictionary\n",
        "pegawai_1['Nama']"
      ],
      "metadata": {
        "colab": {
          "base_uri": "https://localhost:8080/",
          "height": 36
        },
        "id": "dL0b1-grvf9V",
        "outputId": "03a10c74-2270-4db6-ec70-22c89dd9c851"
      },
      "execution_count": 113,
      "outputs": [
        {
          "output_type": "execute_result",
          "data": {
            "text/plain": [
              "'Ricky'"
            ],
            "application/vnd.google.colaboratory.intrinsic+json": {
              "type": "string"
            }
          },
          "metadata": {},
          "execution_count": 113
        }
      ]
    },
    {
      "cell_type": "code",
      "source": [
        "# Jika key yang diinput tidak ditemukan pada dictionary\n",
        "pegawai_1['Alamat']"
      ],
      "metadata": {
        "colab": {
          "base_uri": "https://localhost:8080/",
          "height": 158
        },
        "id": "qjF12u9bwBNg",
        "outputId": "54c347d6-5c95-4ef0-b11d-9eb1b5a2eaba"
      },
      "execution_count": 114,
      "outputs": [
        {
          "output_type": "error",
          "ename": "KeyError",
          "evalue": "'Alamat'",
          "traceback": [
            "\u001b[0;31m---------------------------------------------------------------------------\u001b[0m",
            "\u001b[0;31mKeyError\u001b[0m                                  Traceback (most recent call last)",
            "\u001b[0;32m<ipython-input-114-61b4dc49ea2c>\u001b[0m in \u001b[0;36m<cell line: 2>\u001b[0;34m()\u001b[0m\n\u001b[1;32m      1\u001b[0m \u001b[0;31m# Jika key yang diinput tidak ditemukan pada dictionary\u001b[0m\u001b[0;34m\u001b[0m\u001b[0;34m\u001b[0m\u001b[0m\n\u001b[0;32m----> 2\u001b[0;31m \u001b[0mpegawai_1\u001b[0m\u001b[0;34m[\u001b[0m\u001b[0;34m'Alamat'\u001b[0m\u001b[0;34m]\u001b[0m\u001b[0;34m\u001b[0m\u001b[0;34m\u001b[0m\u001b[0m\n\u001b[0m",
            "\u001b[0;31mKeyError\u001b[0m: 'Alamat'"
          ]
        }
      ]
    },
    {
      "cell_type": "code",
      "source": [
        "# Agar tidak menghasilkan error saat pencarian data\n",
        "pegawai_1.get('Alamat')"
      ],
      "metadata": {
        "id": "3xIYCr_3wOIc"
      },
      "execution_count": 115,
      "outputs": []
    },
    {
      "cell_type": "code",
      "source": [
        "# Untuk memberikan keterangan \"Data yang dicari tidak ada dalam database!\"\n",
        "pegawai_1.get('Alamat', \"Data yang dicari tidak ada dalam database!\")"
      ],
      "metadata": {
        "colab": {
          "base_uri": "https://localhost:8080/",
          "height": 36
        },
        "id": "wuvU2rEywXRs",
        "outputId": "d9abd708-62a4-48e8-9ae9-6d83a4fc0d75"
      },
      "execution_count": 116,
      "outputs": [
        {
          "output_type": "execute_result",
          "data": {
            "text/plain": [
              "'Data yang dicari tidak ada dalam database!'"
            ],
            "application/vnd.google.colaboratory.intrinsic+json": {
              "type": "string"
            }
          },
          "metadata": {},
          "execution_count": 116
        }
      ]
    },
    {
      "cell_type": "markdown",
      "source": [
        "### `DICTIONARY` EXERCISE\n",
        "1. Buat sebuah `list` berisikan dua `dictionary` pegawai_1 dan pegawai_2, lalu *assign* ke variabel `list_pegawai`;\n",
        "2. Gunakan teknik `list comprehension` untuk mengambil hanya setiap *values* dari kedua pegawai pada `list_pegawai`;\n",
        "3. Gunakan teknik `list comprehension` untuk mengambil hanya data `Nama` dan `Usia` dari kedua pegawai pada `list_pegawai`;\n",
        "4. Gunakan teknik `list comprehension` untuk melakukan filtering data\n",
        " `Usia` pada `list_pegawai` yang memiliki value `Nama` == 'Dika';\n",
        "5. Gunakan teknis `list comprehension` untuk melakukan filtering data pegawai yang memiliki nilai gaji dibawah 10 juta."
      ],
      "metadata": {
        "id": "I1V_hmANmBTg"
      }
    },
    {
      "cell_type": "code",
      "source": [
        "# 1. Buat list_pegawai\n",
        "list_pegawai = [pegawai_1, pegawai_2]\n",
        "print(list_pegawai)"
      ],
      "metadata": {
        "id": "IjCnzfHXsyxV",
        "colab": {
          "base_uri": "https://localhost:8080/"
        },
        "outputId": "ab2c0827-d7fb-40a4-8124-b869cbded7a3"
      },
      "execution_count": 117,
      "outputs": [
        {
          "output_type": "stream",
          "name": "stdout",
          "text": [
            "[{'Nama': 'Ricky', 'Usia': 30, 'Role': 'Data Analyst', 'Dept': 'Marketing'}, {'Nama': 'Dika', 'Usia': 25, 'Role': 'Data Analyst', 'Dept': 'Marketing'}]\n"
          ]
        }
      ]
    },
    {
      "cell_type": "code",
      "source": [
        "# 2. Tampilkan hanya item values saja\n",
        "[data.values() for data in list_pegawai]"
      ],
      "metadata": {
        "id": "BZNNWswtxcL5",
        "colab": {
          "base_uri": "https://localhost:8080/"
        },
        "outputId": "5629066e-2419-4fbd-9a17-37e1a93a42b7"
      },
      "execution_count": 119,
      "outputs": [
        {
          "output_type": "execute_result",
          "data": {
            "text/plain": [
              "[dict_values(['Ricky', 30, 'Data Analyst', 'Marketing']),\n",
              " dict_values(['Dika', 25, 'Data Analyst', 'Marketing'])]"
            ]
          },
          "metadata": {},
          "execution_count": 119
        }
      ]
    },
    {
      "cell_type": "code",
      "source": [
        "# 3. Tampilkan data 'Nama' dan 'Usia' saja\n",
        "[[data['Nama'], data['Usia']] for data in list_pegawai]"
      ],
      "metadata": {
        "id": "M1u1jeLZv8kl",
        "colab": {
          "base_uri": "https://localhost:8080/"
        },
        "outputId": "bdcbcf96-4e35-4c2e-8ae6-aee8d49e2ded"
      },
      "execution_count": 120,
      "outputs": [
        {
          "output_type": "execute_result",
          "data": {
            "text/plain": [
              "[['Ricky', 30], ['Dika', 25]]"
            ]
          },
          "metadata": {},
          "execution_count": 120
        }
      ]
    },
    {
      "cell_type": "code",
      "source": [
        "# 4. Tampilkan hanya data 'Usia' dari pegawai bernama 'Dika'\n",
        "[data['Usia'] for data in list_pegawai if data['Nama']=='Dika']"
      ],
      "metadata": {
        "id": "mY7DUdJ9s-qw",
        "colab": {
          "base_uri": "https://localhost:8080/"
        },
        "outputId": "ad3adbf5-8363-41e5-e281-6b9a3d3da359"
      },
      "execution_count": 121,
      "outputs": [
        {
          "output_type": "execute_result",
          "data": {
            "text/plain": [
              "[25]"
            ]
          },
          "metadata": {},
          "execution_count": 121
        }
      ]
    },
    {
      "cell_type": "code",
      "source": [
        "# 5. Tampilkan data pegawai yang nilai 'Gaji' di bawah 10 juta\n",
        "[data['Gaji'] for data in list_pegawai if data['Gaji'],10_000_000]"
      ],
      "metadata": {
        "id": "Sul4s2AOzEmP",
        "colab": {
          "base_uri": "https://localhost:8080/",
          "height": 106
        },
        "outputId": "7d61619f-09d2-4ec5-d105-6b65a368fabf"
      },
      "execution_count": 122,
      "outputs": [
        {
          "output_type": "error",
          "ename": "SyntaxError",
          "evalue": "invalid syntax (<ipython-input-122-ee48ccdc8114>, line 2)",
          "traceback": [
            "\u001b[0;36m  File \u001b[0;32m\"<ipython-input-122-ee48ccdc8114>\"\u001b[0;36m, line \u001b[0;32m2\u001b[0m\n\u001b[0;31m    [data['Gaji' for data in list_pegawai if data['Gaji'],10_000_000]]\u001b[0m\n\u001b[0m                 ^\u001b[0m\n\u001b[0;31mSyntaxError\u001b[0m\u001b[0;31m:\u001b[0m invalid syntax\n"
          ]
        }
      ]
    },
    {
      "cell_type": "markdown",
      "source": [
        "---\n",
        "#### 2. PENGENALAN DATAFRAME CONSTRUCTOR\n",
        "\n",
        "Seperti telah dicontohkan pada pertemuan ke-7 sebelumnya, kegiatan data analytics akan mengharuskan seorang data analyst untuk biasa bekerja dengan object `pd.DataFrame`. Seperti dicontohkan pada ilustrasi di pertemuan tersebut, bahwa data dari kegiatan survey dapat disimpan dalam berbagai object data fundamental python, seperti `list` dan `tuple`, dan di konversi menjadi object `pd.DataFrame` agar memudahkan proses pengolahan, dan analisis lebih lanjutnya.\n",
        "\n",
        "Pada exercise di bawah ini, akan diperkenalkan beberapa methods pada modul `pandas` yang umumnya dipergunakan untuk membangun sebuah dataframe, yaitu:\n",
        "1. `pd.DataFrame`; dan\n",
        "2. `pd.concat`.\n",
        "\n",
        "##### METHOD `pd.DataFrame`\n",
        "Method ini merupakan method yang cukup fleksibel, karena dapat dimanfaatkan untuk menkonversi data yang tersimpan di dalam berbagai jenis object python fundamental, atau pada sebuah object `pd.series`.\n",
        "\n",
        "Hal penting yang harus dipastikan dalam penggunaan method ini adalah:\n",
        "1. Setiap data yang akan dikonversi memiliki **jumlah elemen** yang sama;\n",
        "2. Setiap data yang akan dikonversi memiliki **penulisan index** yang seragam; dan\n",
        "3. Setiap data yang akan dikonversi tersimpan dalam **tipe object** (object fundamental python atau `pd.series`) yang seragam.\n",
        "\n",
        "Berikut ini dicontohkan cara penggunaannya yang disesuaikan dengan jenis object yang akan dikonversi."
      ],
      "metadata": {
        "id": "mt8wui1h0KMs"
      }
    },
    {
      "cell_type": "code",
      "source": [
        "# 1. Mengkonversi beberapa object fundamental python menjadi dataframe\n",
        "# Buat list berisi `kode_tuple`, `nama_teman`, `umur_tuple`, dan `gaji_tuple`\n",
        "list_of_objects = [kode_tuple, nama_teman, umur_tuple, gaji_tuple]\n",
        "# Proses list_of_data menjadi dataframe\n",
        "df_fundamental = (pd                                               # Dari modul pandas\n",
        "                  .DataFrame(                                      # Gunakan method `DataFrame`\n",
        "                      list_of_objects,                             # Untuk mengkonversi list_of_objects\n",
        "                      index=['Kode', 'Nama', 'Umur', 'Gaji'])      # Dengan index sesuai dengan list yang disediakan\n",
        "                  .T                                               # Transpose dataframe\n",
        "                  .set_index('Kode'))                              # Set kolom 'Kode' menjadi index\n",
        "# Check hasil konversi\n",
        "df_fundamental"
      ],
      "metadata": {
        "colab": {
          "base_uri": "https://localhost:8080/",
          "height": 237
        },
        "id": "YDWpUH6y6siX",
        "outputId": "36d8b2fe-80ca-45fc-9ea2-aadecf8363ca"
      },
      "execution_count": 124,
      "outputs": [
        {
          "output_type": "execute_result",
          "data": {
            "text/plain": [
              "       Nama Umur     Gaji\n",
              "Kode                     \n",
              "100    Amir   25  1000000\n",
              "200    Beni   20  2000000\n",
              "300   Cinta   30  3000000\n",
              "400   Dimas   40  4000000\n",
              "500     Edi   50  5000000"
            ],
            "text/html": [
              "\n",
              "  <div id=\"df-fe4bdecc-d2ae-4966-9b2d-17141d418852\" class=\"colab-df-container\">\n",
              "    <div>\n",
              "<style scoped>\n",
              "    .dataframe tbody tr th:only-of-type {\n",
              "        vertical-align: middle;\n",
              "    }\n",
              "\n",
              "    .dataframe tbody tr th {\n",
              "        vertical-align: top;\n",
              "    }\n",
              "\n",
              "    .dataframe thead th {\n",
              "        text-align: right;\n",
              "    }\n",
              "</style>\n",
              "<table border=\"1\" class=\"dataframe\">\n",
              "  <thead>\n",
              "    <tr style=\"text-align: right;\">\n",
              "      <th></th>\n",
              "      <th>Nama</th>\n",
              "      <th>Umur</th>\n",
              "      <th>Gaji</th>\n",
              "    </tr>\n",
              "    <tr>\n",
              "      <th>Kode</th>\n",
              "      <th></th>\n",
              "      <th></th>\n",
              "      <th></th>\n",
              "    </tr>\n",
              "  </thead>\n",
              "  <tbody>\n",
              "    <tr>\n",
              "      <th>100</th>\n",
              "      <td>Amir</td>\n",
              "      <td>25</td>\n",
              "      <td>1000000</td>\n",
              "    </tr>\n",
              "    <tr>\n",
              "      <th>200</th>\n",
              "      <td>Beni</td>\n",
              "      <td>20</td>\n",
              "      <td>2000000</td>\n",
              "    </tr>\n",
              "    <tr>\n",
              "      <th>300</th>\n",
              "      <td>Cinta</td>\n",
              "      <td>30</td>\n",
              "      <td>3000000</td>\n",
              "    </tr>\n",
              "    <tr>\n",
              "      <th>400</th>\n",
              "      <td>Dimas</td>\n",
              "      <td>40</td>\n",
              "      <td>4000000</td>\n",
              "    </tr>\n",
              "    <tr>\n",
              "      <th>500</th>\n",
              "      <td>Edi</td>\n",
              "      <td>50</td>\n",
              "      <td>5000000</td>\n",
              "    </tr>\n",
              "  </tbody>\n",
              "</table>\n",
              "</div>\n",
              "    <div class=\"colab-df-buttons\">\n",
              "\n",
              "  <div class=\"colab-df-container\">\n",
              "    <button class=\"colab-df-convert\" onclick=\"convertToInteractive('df-fe4bdecc-d2ae-4966-9b2d-17141d418852')\"\n",
              "            title=\"Convert this dataframe to an interactive table.\"\n",
              "            style=\"display:none;\">\n",
              "\n",
              "  <svg xmlns=\"http://www.w3.org/2000/svg\" height=\"24px\" viewBox=\"0 -960 960 960\">\n",
              "    <path d=\"M120-120v-720h720v720H120Zm60-500h600v-160H180v160Zm220 220h160v-160H400v160Zm0 220h160v-160H400v160ZM180-400h160v-160H180v160Zm440 0h160v-160H620v160ZM180-180h160v-160H180v160Zm440 0h160v-160H620v160Z\"/>\n",
              "  </svg>\n",
              "    </button>\n",
              "\n",
              "  <style>\n",
              "    .colab-df-container {\n",
              "      display:flex;\n",
              "      gap: 12px;\n",
              "    }\n",
              "\n",
              "    .colab-df-convert {\n",
              "      background-color: #E8F0FE;\n",
              "      border: none;\n",
              "      border-radius: 50%;\n",
              "      cursor: pointer;\n",
              "      display: none;\n",
              "      fill: #1967D2;\n",
              "      height: 32px;\n",
              "      padding: 0 0 0 0;\n",
              "      width: 32px;\n",
              "    }\n",
              "\n",
              "    .colab-df-convert:hover {\n",
              "      background-color: #E2EBFA;\n",
              "      box-shadow: 0px 1px 2px rgba(60, 64, 67, 0.3), 0px 1px 3px 1px rgba(60, 64, 67, 0.15);\n",
              "      fill: #174EA6;\n",
              "    }\n",
              "\n",
              "    .colab-df-buttons div {\n",
              "      margin-bottom: 4px;\n",
              "    }\n",
              "\n",
              "    [theme=dark] .colab-df-convert {\n",
              "      background-color: #3B4455;\n",
              "      fill: #D2E3FC;\n",
              "    }\n",
              "\n",
              "    [theme=dark] .colab-df-convert:hover {\n",
              "      background-color: #434B5C;\n",
              "      box-shadow: 0px 1px 3px 1px rgba(0, 0, 0, 0.15);\n",
              "      filter: drop-shadow(0px 1px 2px rgba(0, 0, 0, 0.3));\n",
              "      fill: #FFFFFF;\n",
              "    }\n",
              "  </style>\n",
              "\n",
              "    <script>\n",
              "      const buttonEl =\n",
              "        document.querySelector('#df-fe4bdecc-d2ae-4966-9b2d-17141d418852 button.colab-df-convert');\n",
              "      buttonEl.style.display =\n",
              "        google.colab.kernel.accessAllowed ? 'block' : 'none';\n",
              "\n",
              "      async function convertToInteractive(key) {\n",
              "        const element = document.querySelector('#df-fe4bdecc-d2ae-4966-9b2d-17141d418852');\n",
              "        const dataTable =\n",
              "          await google.colab.kernel.invokeFunction('convertToInteractive',\n",
              "                                                    [key], {});\n",
              "        if (!dataTable) return;\n",
              "\n",
              "        const docLinkHtml = 'Like what you see? Visit the ' +\n",
              "          '<a target=\"_blank\" href=https://colab.research.google.com/notebooks/data_table.ipynb>data table notebook</a>'\n",
              "          + ' to learn more about interactive tables.';\n",
              "        element.innerHTML = '';\n",
              "        dataTable['output_type'] = 'display_data';\n",
              "        await google.colab.output.renderOutput(dataTable, element);\n",
              "        const docLink = document.createElement('div');\n",
              "        docLink.innerHTML = docLinkHtml;\n",
              "        element.appendChild(docLink);\n",
              "      }\n",
              "    </script>\n",
              "  </div>\n",
              "\n",
              "\n",
              "<div id=\"df-cd3004e0-fee5-486b-9d58-9b7d522e5b6a\">\n",
              "  <button class=\"colab-df-quickchart\" onclick=\"quickchart('df-cd3004e0-fee5-486b-9d58-9b7d522e5b6a')\"\n",
              "            title=\"Suggest charts\"\n",
              "            style=\"display:none;\">\n",
              "\n",
              "<svg xmlns=\"http://www.w3.org/2000/svg\" height=\"24px\"viewBox=\"0 0 24 24\"\n",
              "     width=\"24px\">\n",
              "    <g>\n",
              "        <path d=\"M19 3H5c-1.1 0-2 .9-2 2v14c0 1.1.9 2 2 2h14c1.1 0 2-.9 2-2V5c0-1.1-.9-2-2-2zM9 17H7v-7h2v7zm4 0h-2V7h2v10zm4 0h-2v-4h2v4z\"/>\n",
              "    </g>\n",
              "</svg>\n",
              "  </button>\n",
              "\n",
              "<style>\n",
              "  .colab-df-quickchart {\n",
              "      --bg-color: #E8F0FE;\n",
              "      --fill-color: #1967D2;\n",
              "      --hover-bg-color: #E2EBFA;\n",
              "      --hover-fill-color: #174EA6;\n",
              "      --disabled-fill-color: #AAA;\n",
              "      --disabled-bg-color: #DDD;\n",
              "  }\n",
              "\n",
              "  [theme=dark] .colab-df-quickchart {\n",
              "      --bg-color: #3B4455;\n",
              "      --fill-color: #D2E3FC;\n",
              "      --hover-bg-color: #434B5C;\n",
              "      --hover-fill-color: #FFFFFF;\n",
              "      --disabled-bg-color: #3B4455;\n",
              "      --disabled-fill-color: #666;\n",
              "  }\n",
              "\n",
              "  .colab-df-quickchart {\n",
              "    background-color: var(--bg-color);\n",
              "    border: none;\n",
              "    border-radius: 50%;\n",
              "    cursor: pointer;\n",
              "    display: none;\n",
              "    fill: var(--fill-color);\n",
              "    height: 32px;\n",
              "    padding: 0;\n",
              "    width: 32px;\n",
              "  }\n",
              "\n",
              "  .colab-df-quickchart:hover {\n",
              "    background-color: var(--hover-bg-color);\n",
              "    box-shadow: 0 1px 2px rgba(60, 64, 67, 0.3), 0 1px 3px 1px rgba(60, 64, 67, 0.15);\n",
              "    fill: var(--button-hover-fill-color);\n",
              "  }\n",
              "\n",
              "  .colab-df-quickchart-complete:disabled,\n",
              "  .colab-df-quickchart-complete:disabled:hover {\n",
              "    background-color: var(--disabled-bg-color);\n",
              "    fill: var(--disabled-fill-color);\n",
              "    box-shadow: none;\n",
              "  }\n",
              "\n",
              "  .colab-df-spinner {\n",
              "    border: 2px solid var(--fill-color);\n",
              "    border-color: transparent;\n",
              "    border-bottom-color: var(--fill-color);\n",
              "    animation:\n",
              "      spin 1s steps(1) infinite;\n",
              "  }\n",
              "\n",
              "  @keyframes spin {\n",
              "    0% {\n",
              "      border-color: transparent;\n",
              "      border-bottom-color: var(--fill-color);\n",
              "      border-left-color: var(--fill-color);\n",
              "    }\n",
              "    20% {\n",
              "      border-color: transparent;\n",
              "      border-left-color: var(--fill-color);\n",
              "      border-top-color: var(--fill-color);\n",
              "    }\n",
              "    30% {\n",
              "      border-color: transparent;\n",
              "      border-left-color: var(--fill-color);\n",
              "      border-top-color: var(--fill-color);\n",
              "      border-right-color: var(--fill-color);\n",
              "    }\n",
              "    40% {\n",
              "      border-color: transparent;\n",
              "      border-right-color: var(--fill-color);\n",
              "      border-top-color: var(--fill-color);\n",
              "    }\n",
              "    60% {\n",
              "      border-color: transparent;\n",
              "      border-right-color: var(--fill-color);\n",
              "    }\n",
              "    80% {\n",
              "      border-color: transparent;\n",
              "      border-right-color: var(--fill-color);\n",
              "      border-bottom-color: var(--fill-color);\n",
              "    }\n",
              "    90% {\n",
              "      border-color: transparent;\n",
              "      border-bottom-color: var(--fill-color);\n",
              "    }\n",
              "  }\n",
              "</style>\n",
              "\n",
              "  <script>\n",
              "    async function quickchart(key) {\n",
              "      const quickchartButtonEl =\n",
              "        document.querySelector('#' + key + ' button');\n",
              "      quickchartButtonEl.disabled = true;  // To prevent multiple clicks.\n",
              "      quickchartButtonEl.classList.add('colab-df-spinner');\n",
              "      try {\n",
              "        const charts = await google.colab.kernel.invokeFunction(\n",
              "            'suggestCharts', [key], {});\n",
              "      } catch (error) {\n",
              "        console.error('Error during call to suggestCharts:', error);\n",
              "      }\n",
              "      quickchartButtonEl.classList.remove('colab-df-spinner');\n",
              "      quickchartButtonEl.classList.add('colab-df-quickchart-complete');\n",
              "    }\n",
              "    (() => {\n",
              "      let quickchartButtonEl =\n",
              "        document.querySelector('#df-cd3004e0-fee5-486b-9d58-9b7d522e5b6a button');\n",
              "      quickchartButtonEl.style.display =\n",
              "        google.colab.kernel.accessAllowed ? 'block' : 'none';\n",
              "    })();\n",
              "  </script>\n",
              "</div>\n",
              "\n",
              "  <div id=\"id_fd79b1be-30b8-4e21-b5d3-993e00e6daed\">\n",
              "    <style>\n",
              "      .colab-df-generate {\n",
              "        background-color: #E8F0FE;\n",
              "        border: none;\n",
              "        border-radius: 50%;\n",
              "        cursor: pointer;\n",
              "        display: none;\n",
              "        fill: #1967D2;\n",
              "        height: 32px;\n",
              "        padding: 0 0 0 0;\n",
              "        width: 32px;\n",
              "      }\n",
              "\n",
              "      .colab-df-generate:hover {\n",
              "        background-color: #E2EBFA;\n",
              "        box-shadow: 0px 1px 2px rgba(60, 64, 67, 0.3), 0px 1px 3px 1px rgba(60, 64, 67, 0.15);\n",
              "        fill: #174EA6;\n",
              "      }\n",
              "\n",
              "      [theme=dark] .colab-df-generate {\n",
              "        background-color: #3B4455;\n",
              "        fill: #D2E3FC;\n",
              "      }\n",
              "\n",
              "      [theme=dark] .colab-df-generate:hover {\n",
              "        background-color: #434B5C;\n",
              "        box-shadow: 0px 1px 3px 1px rgba(0, 0, 0, 0.15);\n",
              "        filter: drop-shadow(0px 1px 2px rgba(0, 0, 0, 0.3));\n",
              "        fill: #FFFFFF;\n",
              "      }\n",
              "    </style>\n",
              "    <button class=\"colab-df-generate\" onclick=\"generateWithVariable('df_fundamental')\"\n",
              "            title=\"Generate code using this dataframe.\"\n",
              "            style=\"display:none;\">\n",
              "\n",
              "  <svg xmlns=\"http://www.w3.org/2000/svg\" height=\"24px\"viewBox=\"0 0 24 24\"\n",
              "       width=\"24px\">\n",
              "    <path d=\"M7,19H8.4L18.45,9,17,7.55,7,17.6ZM5,21V16.75L18.45,3.32a2,2,0,0,1,2.83,0l1.4,1.43a1.91,1.91,0,0,1,.58,1.4,1.91,1.91,0,0,1-.58,1.4L9.25,21ZM18.45,9,17,7.55Zm-12,3A5.31,5.31,0,0,0,4.9,8.1,5.31,5.31,0,0,0,1,6.5,5.31,5.31,0,0,0,4.9,4.9,5.31,5.31,0,0,0,6.5,1,5.31,5.31,0,0,0,8.1,4.9,5.31,5.31,0,0,0,12,6.5,5.46,5.46,0,0,0,6.5,12Z\"/>\n",
              "  </svg>\n",
              "    </button>\n",
              "    <script>\n",
              "      (() => {\n",
              "      const buttonEl =\n",
              "        document.querySelector('#id_fd79b1be-30b8-4e21-b5d3-993e00e6daed button.colab-df-generate');\n",
              "      buttonEl.style.display =\n",
              "        google.colab.kernel.accessAllowed ? 'block' : 'none';\n",
              "\n",
              "      buttonEl.onclick = () => {\n",
              "        google.colab.notebook.generateWithVariable('df_fundamental');\n",
              "      }\n",
              "      })();\n",
              "    </script>\n",
              "  </div>\n",
              "\n",
              "    </div>\n",
              "  </div>\n"
            ],
            "application/vnd.google.colaboratory.intrinsic+json": {
              "type": "dataframe",
              "variable_name": "df_fundamental",
              "summary": "{\n  \"name\": \"df_fundamental\",\n  \"rows\": 5,\n  \"fields\": [\n    {\n      \"column\": \"Kode\",\n      \"properties\": {\n        \"dtype\": \"number\",\n        \"std\": 158,\n        \"min\": 100,\n        \"max\": 500,\n        \"num_unique_values\": 5,\n        \"samples\": [\n          200,\n          500,\n          300\n        ],\n        \"semantic_type\": \"\",\n        \"description\": \"\"\n      }\n    },\n    {\n      \"column\": \"Nama\",\n      \"properties\": {\n        \"dtype\": \"string\",\n        \"num_unique_values\": 5,\n        \"samples\": [\n          \"Beni\",\n          \"Edi\",\n          \"Cinta\"\n        ],\n        \"semantic_type\": \"\",\n        \"description\": \"\"\n      }\n    },\n    {\n      \"column\": \"Umur\",\n      \"properties\": {\n        \"dtype\": \"date\",\n        \"min\": 20,\n        \"max\": 50,\n        \"num_unique_values\": 5,\n        \"samples\": [\n          20,\n          50,\n          30\n        ],\n        \"semantic_type\": \"\",\n        \"description\": \"\"\n      }\n    },\n    {\n      \"column\": \"Gaji\",\n      \"properties\": {\n        \"dtype\": \"date\",\n        \"min\": 1000000,\n        \"max\": 5000000,\n        \"num_unique_values\": 5,\n        \"samples\": [\n          2000000,\n          5000000,\n          3000000\n        ],\n        \"semantic_type\": \"\",\n        \"description\": \"\"\n      }\n    }\n  ]\n}"
            }
          },
          "metadata": {},
          "execution_count": 124
        }
      ]
    },
    {
      "cell_type": "code",
      "source": [
        "# 2. Mengkonversi beberapa series menjadi dataframe\n",
        "# Buat list berisi kode_tuple, nama_teman, umur_tuple, dan gaji_tuple yang telah diubah menjadi object series\n",
        "list_of_series = [pd.Series(kode_tuple, name='Kode'),\n",
        "                  pd.Series(nama_teman, name='Nama'),\n",
        "                  pd.Series(umur_tuple, name='Usia'),\n",
        "                  pd.Series(gaji_tuple, name='Gaji')\n",
        "]\n",
        "# Proses list_of_series menjadi dataframe\n",
        "df_series = pd.DataFrame(list_of_series).T.set_index('Kode')\n",
        "df_series"
      ],
      "metadata": {
        "colab": {
          "base_uri": "https://localhost:8080/",
          "height": 237
        },
        "id": "rsmEEuaFu7ZY",
        "outputId": "a933eca0-d839-4c5a-8dd8-501c91fd5f68"
      },
      "execution_count": 126,
      "outputs": [
        {
          "output_type": "execute_result",
          "data": {
            "text/plain": [
              "       Nama Usia     Gaji\n",
              "Kode                     \n",
              "100    Amir   25  1000000\n",
              "200    Beni   20  2000000\n",
              "300   Cinta   30  3000000\n",
              "400   Dimas   40  4000000\n",
              "500     Edi   50  5000000"
            ],
            "text/html": [
              "\n",
              "  <div id=\"df-b9a6fd5b-975b-46aa-83de-7fbdae51d77b\" class=\"colab-df-container\">\n",
              "    <div>\n",
              "<style scoped>\n",
              "    .dataframe tbody tr th:only-of-type {\n",
              "        vertical-align: middle;\n",
              "    }\n",
              "\n",
              "    .dataframe tbody tr th {\n",
              "        vertical-align: top;\n",
              "    }\n",
              "\n",
              "    .dataframe thead th {\n",
              "        text-align: right;\n",
              "    }\n",
              "</style>\n",
              "<table border=\"1\" class=\"dataframe\">\n",
              "  <thead>\n",
              "    <tr style=\"text-align: right;\">\n",
              "      <th></th>\n",
              "      <th>Nama</th>\n",
              "      <th>Usia</th>\n",
              "      <th>Gaji</th>\n",
              "    </tr>\n",
              "    <tr>\n",
              "      <th>Kode</th>\n",
              "      <th></th>\n",
              "      <th></th>\n",
              "      <th></th>\n",
              "    </tr>\n",
              "  </thead>\n",
              "  <tbody>\n",
              "    <tr>\n",
              "      <th>100</th>\n",
              "      <td>Amir</td>\n",
              "      <td>25</td>\n",
              "      <td>1000000</td>\n",
              "    </tr>\n",
              "    <tr>\n",
              "      <th>200</th>\n",
              "      <td>Beni</td>\n",
              "      <td>20</td>\n",
              "      <td>2000000</td>\n",
              "    </tr>\n",
              "    <tr>\n",
              "      <th>300</th>\n",
              "      <td>Cinta</td>\n",
              "      <td>30</td>\n",
              "      <td>3000000</td>\n",
              "    </tr>\n",
              "    <tr>\n",
              "      <th>400</th>\n",
              "      <td>Dimas</td>\n",
              "      <td>40</td>\n",
              "      <td>4000000</td>\n",
              "    </tr>\n",
              "    <tr>\n",
              "      <th>500</th>\n",
              "      <td>Edi</td>\n",
              "      <td>50</td>\n",
              "      <td>5000000</td>\n",
              "    </tr>\n",
              "  </tbody>\n",
              "</table>\n",
              "</div>\n",
              "    <div class=\"colab-df-buttons\">\n",
              "\n",
              "  <div class=\"colab-df-container\">\n",
              "    <button class=\"colab-df-convert\" onclick=\"convertToInteractive('df-b9a6fd5b-975b-46aa-83de-7fbdae51d77b')\"\n",
              "            title=\"Convert this dataframe to an interactive table.\"\n",
              "            style=\"display:none;\">\n",
              "\n",
              "  <svg xmlns=\"http://www.w3.org/2000/svg\" height=\"24px\" viewBox=\"0 -960 960 960\">\n",
              "    <path d=\"M120-120v-720h720v720H120Zm60-500h600v-160H180v160Zm220 220h160v-160H400v160Zm0 220h160v-160H400v160ZM180-400h160v-160H180v160Zm440 0h160v-160H620v160ZM180-180h160v-160H180v160Zm440 0h160v-160H620v160Z\"/>\n",
              "  </svg>\n",
              "    </button>\n",
              "\n",
              "  <style>\n",
              "    .colab-df-container {\n",
              "      display:flex;\n",
              "      gap: 12px;\n",
              "    }\n",
              "\n",
              "    .colab-df-convert {\n",
              "      background-color: #E8F0FE;\n",
              "      border: none;\n",
              "      border-radius: 50%;\n",
              "      cursor: pointer;\n",
              "      display: none;\n",
              "      fill: #1967D2;\n",
              "      height: 32px;\n",
              "      padding: 0 0 0 0;\n",
              "      width: 32px;\n",
              "    }\n",
              "\n",
              "    .colab-df-convert:hover {\n",
              "      background-color: #E2EBFA;\n",
              "      box-shadow: 0px 1px 2px rgba(60, 64, 67, 0.3), 0px 1px 3px 1px rgba(60, 64, 67, 0.15);\n",
              "      fill: #174EA6;\n",
              "    }\n",
              "\n",
              "    .colab-df-buttons div {\n",
              "      margin-bottom: 4px;\n",
              "    }\n",
              "\n",
              "    [theme=dark] .colab-df-convert {\n",
              "      background-color: #3B4455;\n",
              "      fill: #D2E3FC;\n",
              "    }\n",
              "\n",
              "    [theme=dark] .colab-df-convert:hover {\n",
              "      background-color: #434B5C;\n",
              "      box-shadow: 0px 1px 3px 1px rgba(0, 0, 0, 0.15);\n",
              "      filter: drop-shadow(0px 1px 2px rgba(0, 0, 0, 0.3));\n",
              "      fill: #FFFFFF;\n",
              "    }\n",
              "  </style>\n",
              "\n",
              "    <script>\n",
              "      const buttonEl =\n",
              "        document.querySelector('#df-b9a6fd5b-975b-46aa-83de-7fbdae51d77b button.colab-df-convert');\n",
              "      buttonEl.style.display =\n",
              "        google.colab.kernel.accessAllowed ? 'block' : 'none';\n",
              "\n",
              "      async function convertToInteractive(key) {\n",
              "        const element = document.querySelector('#df-b9a6fd5b-975b-46aa-83de-7fbdae51d77b');\n",
              "        const dataTable =\n",
              "          await google.colab.kernel.invokeFunction('convertToInteractive',\n",
              "                                                    [key], {});\n",
              "        if (!dataTable) return;\n",
              "\n",
              "        const docLinkHtml = 'Like what you see? Visit the ' +\n",
              "          '<a target=\"_blank\" href=https://colab.research.google.com/notebooks/data_table.ipynb>data table notebook</a>'\n",
              "          + ' to learn more about interactive tables.';\n",
              "        element.innerHTML = '';\n",
              "        dataTable['output_type'] = 'display_data';\n",
              "        await google.colab.output.renderOutput(dataTable, element);\n",
              "        const docLink = document.createElement('div');\n",
              "        docLink.innerHTML = docLinkHtml;\n",
              "        element.appendChild(docLink);\n",
              "      }\n",
              "    </script>\n",
              "  </div>\n",
              "\n",
              "\n",
              "<div id=\"df-540ff762-bda8-4350-a4f1-5b856c7a969b\">\n",
              "  <button class=\"colab-df-quickchart\" onclick=\"quickchart('df-540ff762-bda8-4350-a4f1-5b856c7a969b')\"\n",
              "            title=\"Suggest charts\"\n",
              "            style=\"display:none;\">\n",
              "\n",
              "<svg xmlns=\"http://www.w3.org/2000/svg\" height=\"24px\"viewBox=\"0 0 24 24\"\n",
              "     width=\"24px\">\n",
              "    <g>\n",
              "        <path d=\"M19 3H5c-1.1 0-2 .9-2 2v14c0 1.1.9 2 2 2h14c1.1 0 2-.9 2-2V5c0-1.1-.9-2-2-2zM9 17H7v-7h2v7zm4 0h-2V7h2v10zm4 0h-2v-4h2v4z\"/>\n",
              "    </g>\n",
              "</svg>\n",
              "  </button>\n",
              "\n",
              "<style>\n",
              "  .colab-df-quickchart {\n",
              "      --bg-color: #E8F0FE;\n",
              "      --fill-color: #1967D2;\n",
              "      --hover-bg-color: #E2EBFA;\n",
              "      --hover-fill-color: #174EA6;\n",
              "      --disabled-fill-color: #AAA;\n",
              "      --disabled-bg-color: #DDD;\n",
              "  }\n",
              "\n",
              "  [theme=dark] .colab-df-quickchart {\n",
              "      --bg-color: #3B4455;\n",
              "      --fill-color: #D2E3FC;\n",
              "      --hover-bg-color: #434B5C;\n",
              "      --hover-fill-color: #FFFFFF;\n",
              "      --disabled-bg-color: #3B4455;\n",
              "      --disabled-fill-color: #666;\n",
              "  }\n",
              "\n",
              "  .colab-df-quickchart {\n",
              "    background-color: var(--bg-color);\n",
              "    border: none;\n",
              "    border-radius: 50%;\n",
              "    cursor: pointer;\n",
              "    display: none;\n",
              "    fill: var(--fill-color);\n",
              "    height: 32px;\n",
              "    padding: 0;\n",
              "    width: 32px;\n",
              "  }\n",
              "\n",
              "  .colab-df-quickchart:hover {\n",
              "    background-color: var(--hover-bg-color);\n",
              "    box-shadow: 0 1px 2px rgba(60, 64, 67, 0.3), 0 1px 3px 1px rgba(60, 64, 67, 0.15);\n",
              "    fill: var(--button-hover-fill-color);\n",
              "  }\n",
              "\n",
              "  .colab-df-quickchart-complete:disabled,\n",
              "  .colab-df-quickchart-complete:disabled:hover {\n",
              "    background-color: var(--disabled-bg-color);\n",
              "    fill: var(--disabled-fill-color);\n",
              "    box-shadow: none;\n",
              "  }\n",
              "\n",
              "  .colab-df-spinner {\n",
              "    border: 2px solid var(--fill-color);\n",
              "    border-color: transparent;\n",
              "    border-bottom-color: var(--fill-color);\n",
              "    animation:\n",
              "      spin 1s steps(1) infinite;\n",
              "  }\n",
              "\n",
              "  @keyframes spin {\n",
              "    0% {\n",
              "      border-color: transparent;\n",
              "      border-bottom-color: var(--fill-color);\n",
              "      border-left-color: var(--fill-color);\n",
              "    }\n",
              "    20% {\n",
              "      border-color: transparent;\n",
              "      border-left-color: var(--fill-color);\n",
              "      border-top-color: var(--fill-color);\n",
              "    }\n",
              "    30% {\n",
              "      border-color: transparent;\n",
              "      border-left-color: var(--fill-color);\n",
              "      border-top-color: var(--fill-color);\n",
              "      border-right-color: var(--fill-color);\n",
              "    }\n",
              "    40% {\n",
              "      border-color: transparent;\n",
              "      border-right-color: var(--fill-color);\n",
              "      border-top-color: var(--fill-color);\n",
              "    }\n",
              "    60% {\n",
              "      border-color: transparent;\n",
              "      border-right-color: var(--fill-color);\n",
              "    }\n",
              "    80% {\n",
              "      border-color: transparent;\n",
              "      border-right-color: var(--fill-color);\n",
              "      border-bottom-color: var(--fill-color);\n",
              "    }\n",
              "    90% {\n",
              "      border-color: transparent;\n",
              "      border-bottom-color: var(--fill-color);\n",
              "    }\n",
              "  }\n",
              "</style>\n",
              "\n",
              "  <script>\n",
              "    async function quickchart(key) {\n",
              "      const quickchartButtonEl =\n",
              "        document.querySelector('#' + key + ' button');\n",
              "      quickchartButtonEl.disabled = true;  // To prevent multiple clicks.\n",
              "      quickchartButtonEl.classList.add('colab-df-spinner');\n",
              "      try {\n",
              "        const charts = await google.colab.kernel.invokeFunction(\n",
              "            'suggestCharts', [key], {});\n",
              "      } catch (error) {\n",
              "        console.error('Error during call to suggestCharts:', error);\n",
              "      }\n",
              "      quickchartButtonEl.classList.remove('colab-df-spinner');\n",
              "      quickchartButtonEl.classList.add('colab-df-quickchart-complete');\n",
              "    }\n",
              "    (() => {\n",
              "      let quickchartButtonEl =\n",
              "        document.querySelector('#df-540ff762-bda8-4350-a4f1-5b856c7a969b button');\n",
              "      quickchartButtonEl.style.display =\n",
              "        google.colab.kernel.accessAllowed ? 'block' : 'none';\n",
              "    })();\n",
              "  </script>\n",
              "</div>\n",
              "\n",
              "  <div id=\"id_f53046a7-1bfd-46e7-8931-fdb95a71d716\">\n",
              "    <style>\n",
              "      .colab-df-generate {\n",
              "        background-color: #E8F0FE;\n",
              "        border: none;\n",
              "        border-radius: 50%;\n",
              "        cursor: pointer;\n",
              "        display: none;\n",
              "        fill: #1967D2;\n",
              "        height: 32px;\n",
              "        padding: 0 0 0 0;\n",
              "        width: 32px;\n",
              "      }\n",
              "\n",
              "      .colab-df-generate:hover {\n",
              "        background-color: #E2EBFA;\n",
              "        box-shadow: 0px 1px 2px rgba(60, 64, 67, 0.3), 0px 1px 3px 1px rgba(60, 64, 67, 0.15);\n",
              "        fill: #174EA6;\n",
              "      }\n",
              "\n",
              "      [theme=dark] .colab-df-generate {\n",
              "        background-color: #3B4455;\n",
              "        fill: #D2E3FC;\n",
              "      }\n",
              "\n",
              "      [theme=dark] .colab-df-generate:hover {\n",
              "        background-color: #434B5C;\n",
              "        box-shadow: 0px 1px 3px 1px rgba(0, 0, 0, 0.15);\n",
              "        filter: drop-shadow(0px 1px 2px rgba(0, 0, 0, 0.3));\n",
              "        fill: #FFFFFF;\n",
              "      }\n",
              "    </style>\n",
              "    <button class=\"colab-df-generate\" onclick=\"generateWithVariable('df_series')\"\n",
              "            title=\"Generate code using this dataframe.\"\n",
              "            style=\"display:none;\">\n",
              "\n",
              "  <svg xmlns=\"http://www.w3.org/2000/svg\" height=\"24px\"viewBox=\"0 0 24 24\"\n",
              "       width=\"24px\">\n",
              "    <path d=\"M7,19H8.4L18.45,9,17,7.55,7,17.6ZM5,21V16.75L18.45,3.32a2,2,0,0,1,2.83,0l1.4,1.43a1.91,1.91,0,0,1,.58,1.4,1.91,1.91,0,0,1-.58,1.4L9.25,21ZM18.45,9,17,7.55Zm-12,3A5.31,5.31,0,0,0,4.9,8.1,5.31,5.31,0,0,0,1,6.5,5.31,5.31,0,0,0,4.9,4.9,5.31,5.31,0,0,0,6.5,1,5.31,5.31,0,0,0,8.1,4.9,5.31,5.31,0,0,0,12,6.5,5.46,5.46,0,0,0,6.5,12Z\"/>\n",
              "  </svg>\n",
              "    </button>\n",
              "    <script>\n",
              "      (() => {\n",
              "      const buttonEl =\n",
              "        document.querySelector('#id_f53046a7-1bfd-46e7-8931-fdb95a71d716 button.colab-df-generate');\n",
              "      buttonEl.style.display =\n",
              "        google.colab.kernel.accessAllowed ? 'block' : 'none';\n",
              "\n",
              "      buttonEl.onclick = () => {\n",
              "        google.colab.notebook.generateWithVariable('df_series');\n",
              "      }\n",
              "      })();\n",
              "    </script>\n",
              "  </div>\n",
              "\n",
              "    </div>\n",
              "  </div>\n"
            ],
            "application/vnd.google.colaboratory.intrinsic+json": {
              "type": "dataframe",
              "variable_name": "df_series",
              "summary": "{\n  \"name\": \"df_series\",\n  \"rows\": 5,\n  \"fields\": [\n    {\n      \"column\": \"Kode\",\n      \"properties\": {\n        \"dtype\": \"number\",\n        \"std\": 158,\n        \"min\": 100,\n        \"max\": 500,\n        \"num_unique_values\": 5,\n        \"samples\": [\n          200,\n          500,\n          300\n        ],\n        \"semantic_type\": \"\",\n        \"description\": \"\"\n      }\n    },\n    {\n      \"column\": \"Nama\",\n      \"properties\": {\n        \"dtype\": \"string\",\n        \"num_unique_values\": 5,\n        \"samples\": [\n          \"Beni\",\n          \"Edi\",\n          \"Cinta\"\n        ],\n        \"semantic_type\": \"\",\n        \"description\": \"\"\n      }\n    },\n    {\n      \"column\": \"Usia\",\n      \"properties\": {\n        \"dtype\": \"date\",\n        \"min\": 20,\n        \"max\": 50,\n        \"num_unique_values\": 5,\n        \"samples\": [\n          20,\n          50,\n          30\n        ],\n        \"semantic_type\": \"\",\n        \"description\": \"\"\n      }\n    },\n    {\n      \"column\": \"Gaji\",\n      \"properties\": {\n        \"dtype\": \"date\",\n        \"min\": 1000000,\n        \"max\": 5000000,\n        \"num_unique_values\": 5,\n        \"samples\": [\n          2000000,\n          5000000,\n          3000000\n        ],\n        \"semantic_type\": \"\",\n        \"description\": \"\"\n      }\n    }\n  ]\n}"
            }
          },
          "metadata": {},
          "execution_count": 126
        }
      ]
    },
    {
      "cell_type": "code",
      "source": [
        "# 3. Menkonversi dictionary menjadi dataframe\n",
        "# Buat dictionary kengan keys=['Kode', 'Nama', 'Umur', 'Gaji'] dan values=[kode_tuple, nama_teman, umur_tuple, gaji_tuple]\n",
        "data_teman = {'Kode' :kode_tuple,\n",
        "              'Nama' :nama_teman,\n",
        "              'Umur' :umur_tuple,\n",
        "              'Gaji' :gaji_tuple,\n",
        "}\n",
        "# Konversi dictionary menjadi dataframe\n",
        "df_dictionary = pd.DataFrame(data_teman).set_index('Kode')\n",
        "df_dictionary"
      ],
      "metadata": {
        "colab": {
          "base_uri": "https://localhost:8080/",
          "height": 237
        },
        "id": "SV73Drfn7G5r",
        "outputId": "c4c2446a-2433-419e-92ee-f445ff9cdb8e"
      },
      "execution_count": 127,
      "outputs": [
        {
          "output_type": "execute_result",
          "data": {
            "text/plain": [
              "       Nama  Umur     Gaji\n",
              "Kode                      \n",
              "100    Amir    25  1000000\n",
              "200    Beni    20  2000000\n",
              "300   Cinta    30  3000000\n",
              "400   Dimas    40  4000000\n",
              "500     Edi    50  5000000"
            ],
            "text/html": [
              "\n",
              "  <div id=\"df-ee7e6fcd-3933-4a0d-846d-0382edaf149e\" class=\"colab-df-container\">\n",
              "    <div>\n",
              "<style scoped>\n",
              "    .dataframe tbody tr th:only-of-type {\n",
              "        vertical-align: middle;\n",
              "    }\n",
              "\n",
              "    .dataframe tbody tr th {\n",
              "        vertical-align: top;\n",
              "    }\n",
              "\n",
              "    .dataframe thead th {\n",
              "        text-align: right;\n",
              "    }\n",
              "</style>\n",
              "<table border=\"1\" class=\"dataframe\">\n",
              "  <thead>\n",
              "    <tr style=\"text-align: right;\">\n",
              "      <th></th>\n",
              "      <th>Nama</th>\n",
              "      <th>Umur</th>\n",
              "      <th>Gaji</th>\n",
              "    </tr>\n",
              "    <tr>\n",
              "      <th>Kode</th>\n",
              "      <th></th>\n",
              "      <th></th>\n",
              "      <th></th>\n",
              "    </tr>\n",
              "  </thead>\n",
              "  <tbody>\n",
              "    <tr>\n",
              "      <th>100</th>\n",
              "      <td>Amir</td>\n",
              "      <td>25</td>\n",
              "      <td>1000000</td>\n",
              "    </tr>\n",
              "    <tr>\n",
              "      <th>200</th>\n",
              "      <td>Beni</td>\n",
              "      <td>20</td>\n",
              "      <td>2000000</td>\n",
              "    </tr>\n",
              "    <tr>\n",
              "      <th>300</th>\n",
              "      <td>Cinta</td>\n",
              "      <td>30</td>\n",
              "      <td>3000000</td>\n",
              "    </tr>\n",
              "    <tr>\n",
              "      <th>400</th>\n",
              "      <td>Dimas</td>\n",
              "      <td>40</td>\n",
              "      <td>4000000</td>\n",
              "    </tr>\n",
              "    <tr>\n",
              "      <th>500</th>\n",
              "      <td>Edi</td>\n",
              "      <td>50</td>\n",
              "      <td>5000000</td>\n",
              "    </tr>\n",
              "  </tbody>\n",
              "</table>\n",
              "</div>\n",
              "    <div class=\"colab-df-buttons\">\n",
              "\n",
              "  <div class=\"colab-df-container\">\n",
              "    <button class=\"colab-df-convert\" onclick=\"convertToInteractive('df-ee7e6fcd-3933-4a0d-846d-0382edaf149e')\"\n",
              "            title=\"Convert this dataframe to an interactive table.\"\n",
              "            style=\"display:none;\">\n",
              "\n",
              "  <svg xmlns=\"http://www.w3.org/2000/svg\" height=\"24px\" viewBox=\"0 -960 960 960\">\n",
              "    <path d=\"M120-120v-720h720v720H120Zm60-500h600v-160H180v160Zm220 220h160v-160H400v160Zm0 220h160v-160H400v160ZM180-400h160v-160H180v160Zm440 0h160v-160H620v160ZM180-180h160v-160H180v160Zm440 0h160v-160H620v160Z\"/>\n",
              "  </svg>\n",
              "    </button>\n",
              "\n",
              "  <style>\n",
              "    .colab-df-container {\n",
              "      display:flex;\n",
              "      gap: 12px;\n",
              "    }\n",
              "\n",
              "    .colab-df-convert {\n",
              "      background-color: #E8F0FE;\n",
              "      border: none;\n",
              "      border-radius: 50%;\n",
              "      cursor: pointer;\n",
              "      display: none;\n",
              "      fill: #1967D2;\n",
              "      height: 32px;\n",
              "      padding: 0 0 0 0;\n",
              "      width: 32px;\n",
              "    }\n",
              "\n",
              "    .colab-df-convert:hover {\n",
              "      background-color: #E2EBFA;\n",
              "      box-shadow: 0px 1px 2px rgba(60, 64, 67, 0.3), 0px 1px 3px 1px rgba(60, 64, 67, 0.15);\n",
              "      fill: #174EA6;\n",
              "    }\n",
              "\n",
              "    .colab-df-buttons div {\n",
              "      margin-bottom: 4px;\n",
              "    }\n",
              "\n",
              "    [theme=dark] .colab-df-convert {\n",
              "      background-color: #3B4455;\n",
              "      fill: #D2E3FC;\n",
              "    }\n",
              "\n",
              "    [theme=dark] .colab-df-convert:hover {\n",
              "      background-color: #434B5C;\n",
              "      box-shadow: 0px 1px 3px 1px rgba(0, 0, 0, 0.15);\n",
              "      filter: drop-shadow(0px 1px 2px rgba(0, 0, 0, 0.3));\n",
              "      fill: #FFFFFF;\n",
              "    }\n",
              "  </style>\n",
              "\n",
              "    <script>\n",
              "      const buttonEl =\n",
              "        document.querySelector('#df-ee7e6fcd-3933-4a0d-846d-0382edaf149e button.colab-df-convert');\n",
              "      buttonEl.style.display =\n",
              "        google.colab.kernel.accessAllowed ? 'block' : 'none';\n",
              "\n",
              "      async function convertToInteractive(key) {\n",
              "        const element = document.querySelector('#df-ee7e6fcd-3933-4a0d-846d-0382edaf149e');\n",
              "        const dataTable =\n",
              "          await google.colab.kernel.invokeFunction('convertToInteractive',\n",
              "                                                    [key], {});\n",
              "        if (!dataTable) return;\n",
              "\n",
              "        const docLinkHtml = 'Like what you see? Visit the ' +\n",
              "          '<a target=\"_blank\" href=https://colab.research.google.com/notebooks/data_table.ipynb>data table notebook</a>'\n",
              "          + ' to learn more about interactive tables.';\n",
              "        element.innerHTML = '';\n",
              "        dataTable['output_type'] = 'display_data';\n",
              "        await google.colab.output.renderOutput(dataTable, element);\n",
              "        const docLink = document.createElement('div');\n",
              "        docLink.innerHTML = docLinkHtml;\n",
              "        element.appendChild(docLink);\n",
              "      }\n",
              "    </script>\n",
              "  </div>\n",
              "\n",
              "\n",
              "<div id=\"df-35eeecbb-5a6e-4723-bd34-d3e5083d0856\">\n",
              "  <button class=\"colab-df-quickchart\" onclick=\"quickchart('df-35eeecbb-5a6e-4723-bd34-d3e5083d0856')\"\n",
              "            title=\"Suggest charts\"\n",
              "            style=\"display:none;\">\n",
              "\n",
              "<svg xmlns=\"http://www.w3.org/2000/svg\" height=\"24px\"viewBox=\"0 0 24 24\"\n",
              "     width=\"24px\">\n",
              "    <g>\n",
              "        <path d=\"M19 3H5c-1.1 0-2 .9-2 2v14c0 1.1.9 2 2 2h14c1.1 0 2-.9 2-2V5c0-1.1-.9-2-2-2zM9 17H7v-7h2v7zm4 0h-2V7h2v10zm4 0h-2v-4h2v4z\"/>\n",
              "    </g>\n",
              "</svg>\n",
              "  </button>\n",
              "\n",
              "<style>\n",
              "  .colab-df-quickchart {\n",
              "      --bg-color: #E8F0FE;\n",
              "      --fill-color: #1967D2;\n",
              "      --hover-bg-color: #E2EBFA;\n",
              "      --hover-fill-color: #174EA6;\n",
              "      --disabled-fill-color: #AAA;\n",
              "      --disabled-bg-color: #DDD;\n",
              "  }\n",
              "\n",
              "  [theme=dark] .colab-df-quickchart {\n",
              "      --bg-color: #3B4455;\n",
              "      --fill-color: #D2E3FC;\n",
              "      --hover-bg-color: #434B5C;\n",
              "      --hover-fill-color: #FFFFFF;\n",
              "      --disabled-bg-color: #3B4455;\n",
              "      --disabled-fill-color: #666;\n",
              "  }\n",
              "\n",
              "  .colab-df-quickchart {\n",
              "    background-color: var(--bg-color);\n",
              "    border: none;\n",
              "    border-radius: 50%;\n",
              "    cursor: pointer;\n",
              "    display: none;\n",
              "    fill: var(--fill-color);\n",
              "    height: 32px;\n",
              "    padding: 0;\n",
              "    width: 32px;\n",
              "  }\n",
              "\n",
              "  .colab-df-quickchart:hover {\n",
              "    background-color: var(--hover-bg-color);\n",
              "    box-shadow: 0 1px 2px rgba(60, 64, 67, 0.3), 0 1px 3px 1px rgba(60, 64, 67, 0.15);\n",
              "    fill: var(--button-hover-fill-color);\n",
              "  }\n",
              "\n",
              "  .colab-df-quickchart-complete:disabled,\n",
              "  .colab-df-quickchart-complete:disabled:hover {\n",
              "    background-color: var(--disabled-bg-color);\n",
              "    fill: var(--disabled-fill-color);\n",
              "    box-shadow: none;\n",
              "  }\n",
              "\n",
              "  .colab-df-spinner {\n",
              "    border: 2px solid var(--fill-color);\n",
              "    border-color: transparent;\n",
              "    border-bottom-color: var(--fill-color);\n",
              "    animation:\n",
              "      spin 1s steps(1) infinite;\n",
              "  }\n",
              "\n",
              "  @keyframes spin {\n",
              "    0% {\n",
              "      border-color: transparent;\n",
              "      border-bottom-color: var(--fill-color);\n",
              "      border-left-color: var(--fill-color);\n",
              "    }\n",
              "    20% {\n",
              "      border-color: transparent;\n",
              "      border-left-color: var(--fill-color);\n",
              "      border-top-color: var(--fill-color);\n",
              "    }\n",
              "    30% {\n",
              "      border-color: transparent;\n",
              "      border-left-color: var(--fill-color);\n",
              "      border-top-color: var(--fill-color);\n",
              "      border-right-color: var(--fill-color);\n",
              "    }\n",
              "    40% {\n",
              "      border-color: transparent;\n",
              "      border-right-color: var(--fill-color);\n",
              "      border-top-color: var(--fill-color);\n",
              "    }\n",
              "    60% {\n",
              "      border-color: transparent;\n",
              "      border-right-color: var(--fill-color);\n",
              "    }\n",
              "    80% {\n",
              "      border-color: transparent;\n",
              "      border-right-color: var(--fill-color);\n",
              "      border-bottom-color: var(--fill-color);\n",
              "    }\n",
              "    90% {\n",
              "      border-color: transparent;\n",
              "      border-bottom-color: var(--fill-color);\n",
              "    }\n",
              "  }\n",
              "</style>\n",
              "\n",
              "  <script>\n",
              "    async function quickchart(key) {\n",
              "      const quickchartButtonEl =\n",
              "        document.querySelector('#' + key + ' button');\n",
              "      quickchartButtonEl.disabled = true;  // To prevent multiple clicks.\n",
              "      quickchartButtonEl.classList.add('colab-df-spinner');\n",
              "      try {\n",
              "        const charts = await google.colab.kernel.invokeFunction(\n",
              "            'suggestCharts', [key], {});\n",
              "      } catch (error) {\n",
              "        console.error('Error during call to suggestCharts:', error);\n",
              "      }\n",
              "      quickchartButtonEl.classList.remove('colab-df-spinner');\n",
              "      quickchartButtonEl.classList.add('colab-df-quickchart-complete');\n",
              "    }\n",
              "    (() => {\n",
              "      let quickchartButtonEl =\n",
              "        document.querySelector('#df-35eeecbb-5a6e-4723-bd34-d3e5083d0856 button');\n",
              "      quickchartButtonEl.style.display =\n",
              "        google.colab.kernel.accessAllowed ? 'block' : 'none';\n",
              "    })();\n",
              "  </script>\n",
              "</div>\n",
              "\n",
              "  <div id=\"id_019c025b-71d8-416c-ab65-b884049273c9\">\n",
              "    <style>\n",
              "      .colab-df-generate {\n",
              "        background-color: #E8F0FE;\n",
              "        border: none;\n",
              "        border-radius: 50%;\n",
              "        cursor: pointer;\n",
              "        display: none;\n",
              "        fill: #1967D2;\n",
              "        height: 32px;\n",
              "        padding: 0 0 0 0;\n",
              "        width: 32px;\n",
              "      }\n",
              "\n",
              "      .colab-df-generate:hover {\n",
              "        background-color: #E2EBFA;\n",
              "        box-shadow: 0px 1px 2px rgba(60, 64, 67, 0.3), 0px 1px 3px 1px rgba(60, 64, 67, 0.15);\n",
              "        fill: #174EA6;\n",
              "      }\n",
              "\n",
              "      [theme=dark] .colab-df-generate {\n",
              "        background-color: #3B4455;\n",
              "        fill: #D2E3FC;\n",
              "      }\n",
              "\n",
              "      [theme=dark] .colab-df-generate:hover {\n",
              "        background-color: #434B5C;\n",
              "        box-shadow: 0px 1px 3px 1px rgba(0, 0, 0, 0.15);\n",
              "        filter: drop-shadow(0px 1px 2px rgba(0, 0, 0, 0.3));\n",
              "        fill: #FFFFFF;\n",
              "      }\n",
              "    </style>\n",
              "    <button class=\"colab-df-generate\" onclick=\"generateWithVariable('df_dictionary')\"\n",
              "            title=\"Generate code using this dataframe.\"\n",
              "            style=\"display:none;\">\n",
              "\n",
              "  <svg xmlns=\"http://www.w3.org/2000/svg\" height=\"24px\"viewBox=\"0 0 24 24\"\n",
              "       width=\"24px\">\n",
              "    <path d=\"M7,19H8.4L18.45,9,17,7.55,7,17.6ZM5,21V16.75L18.45,3.32a2,2,0,0,1,2.83,0l1.4,1.43a1.91,1.91,0,0,1,.58,1.4,1.91,1.91,0,0,1-.58,1.4L9.25,21ZM18.45,9,17,7.55Zm-12,3A5.31,5.31,0,0,0,4.9,8.1,5.31,5.31,0,0,0,1,6.5,5.31,5.31,0,0,0,4.9,4.9,5.31,5.31,0,0,0,6.5,1,5.31,5.31,0,0,0,8.1,4.9,5.31,5.31,0,0,0,12,6.5,5.46,5.46,0,0,0,6.5,12Z\"/>\n",
              "  </svg>\n",
              "    </button>\n",
              "    <script>\n",
              "      (() => {\n",
              "      const buttonEl =\n",
              "        document.querySelector('#id_019c025b-71d8-416c-ab65-b884049273c9 button.colab-df-generate');\n",
              "      buttonEl.style.display =\n",
              "        google.colab.kernel.accessAllowed ? 'block' : 'none';\n",
              "\n",
              "      buttonEl.onclick = () => {\n",
              "        google.colab.notebook.generateWithVariable('df_dictionary');\n",
              "      }\n",
              "      })();\n",
              "    </script>\n",
              "  </div>\n",
              "\n",
              "    </div>\n",
              "  </div>\n"
            ],
            "application/vnd.google.colaboratory.intrinsic+json": {
              "type": "dataframe",
              "variable_name": "df_dictionary",
              "summary": "{\n  \"name\": \"df_dictionary\",\n  \"rows\": 5,\n  \"fields\": [\n    {\n      \"column\": \"Kode\",\n      \"properties\": {\n        \"dtype\": \"number\",\n        \"std\": 158,\n        \"min\": 100,\n        \"max\": 500,\n        \"num_unique_values\": 5,\n        \"samples\": [\n          200,\n          500,\n          300\n        ],\n        \"semantic_type\": \"\",\n        \"description\": \"\"\n      }\n    },\n    {\n      \"column\": \"Nama\",\n      \"properties\": {\n        \"dtype\": \"string\",\n        \"num_unique_values\": 5,\n        \"samples\": [\n          \"Beni\",\n          \"Edi\",\n          \"Cinta\"\n        ],\n        \"semantic_type\": \"\",\n        \"description\": \"\"\n      }\n    },\n    {\n      \"column\": \"Umur\",\n      \"properties\": {\n        \"dtype\": \"number\",\n        \"std\": 12,\n        \"min\": 20,\n        \"max\": 50,\n        \"num_unique_values\": 5,\n        \"samples\": [\n          20,\n          50,\n          30\n        ],\n        \"semantic_type\": \"\",\n        \"description\": \"\"\n      }\n    },\n    {\n      \"column\": \"Gaji\",\n      \"properties\": {\n        \"dtype\": \"number\",\n        \"std\": 1581138,\n        \"min\": 1000000,\n        \"max\": 5000000,\n        \"num_unique_values\": 5,\n        \"samples\": [\n          2000000,\n          5000000,\n          3000000\n        ],\n        \"semantic_type\": \"\",\n        \"description\": \"\"\n      }\n    }\n  ]\n}"
            }
          },
          "metadata": {},
          "execution_count": 127
        }
      ]
    },
    {
      "cell_type": "markdown",
      "source": [
        "##### METHOD `pd.concat`\n",
        "Method ini hanya dapat dipergunakan untuk menggabungkan object `dataframe` atau `series` menjadi sebuah dataframe.\n",
        "\n",
        "Salah satu parameter pada method ini adalah `axis` yang akan menentukan bagaimana penggabungan akan dilakukan.\n",
        "1. `axis` = 0, maka `series`/`dataframe` akan digabungkan secara tumpang tindih;\n",
        "2. `axis`= 1, maka `series`/`dataframe` akan digabungkan secara bersebelahan.\n",
        "\n",
        "Hal yang harus dipastikan adalah:\n",
        "1. Jika `axis`=0, nama kolom pada setiap `dataframe`/`series` yang digabungkan sama;\n",
        "2. Jika `axis`=1, penulisan index baris setiap `dataframe`/`series` yang digabungkan sama."
      ],
      "metadata": {
        "id": "ypSV77zaxeBI"
      }
    },
    {
      "cell_type": "code",
      "source": [
        "# Menggabungkan data pada list_of_series\n",
        "pd.concat(list_of_series, axis=1)"
      ],
      "metadata": {
        "colab": {
          "base_uri": "https://localhost:8080/",
          "height": 206
        },
        "id": "Fnpv5MZd0Ku9",
        "outputId": "a817b931-5ed2-458e-c041-066d937a8c90"
      },
      "execution_count": 129,
      "outputs": [
        {
          "output_type": "execute_result",
          "data": {
            "text/plain": [
              "   Kode   Nama  Usia     Gaji\n",
              "0   100   Amir    25  1000000\n",
              "1   200   Beni    20  2000000\n",
              "2   300  Cinta    30  3000000\n",
              "3   400  Dimas    40  4000000\n",
              "4   500    Edi    50  5000000"
            ],
            "text/html": [
              "\n",
              "  <div id=\"df-4faa8ca1-1a2f-491e-b3c0-d7585081fcd4\" class=\"colab-df-container\">\n",
              "    <div>\n",
              "<style scoped>\n",
              "    .dataframe tbody tr th:only-of-type {\n",
              "        vertical-align: middle;\n",
              "    }\n",
              "\n",
              "    .dataframe tbody tr th {\n",
              "        vertical-align: top;\n",
              "    }\n",
              "\n",
              "    .dataframe thead th {\n",
              "        text-align: right;\n",
              "    }\n",
              "</style>\n",
              "<table border=\"1\" class=\"dataframe\">\n",
              "  <thead>\n",
              "    <tr style=\"text-align: right;\">\n",
              "      <th></th>\n",
              "      <th>Kode</th>\n",
              "      <th>Nama</th>\n",
              "      <th>Usia</th>\n",
              "      <th>Gaji</th>\n",
              "    </tr>\n",
              "  </thead>\n",
              "  <tbody>\n",
              "    <tr>\n",
              "      <th>0</th>\n",
              "      <td>100</td>\n",
              "      <td>Amir</td>\n",
              "      <td>25</td>\n",
              "      <td>1000000</td>\n",
              "    </tr>\n",
              "    <tr>\n",
              "      <th>1</th>\n",
              "      <td>200</td>\n",
              "      <td>Beni</td>\n",
              "      <td>20</td>\n",
              "      <td>2000000</td>\n",
              "    </tr>\n",
              "    <tr>\n",
              "      <th>2</th>\n",
              "      <td>300</td>\n",
              "      <td>Cinta</td>\n",
              "      <td>30</td>\n",
              "      <td>3000000</td>\n",
              "    </tr>\n",
              "    <tr>\n",
              "      <th>3</th>\n",
              "      <td>400</td>\n",
              "      <td>Dimas</td>\n",
              "      <td>40</td>\n",
              "      <td>4000000</td>\n",
              "    </tr>\n",
              "    <tr>\n",
              "      <th>4</th>\n",
              "      <td>500</td>\n",
              "      <td>Edi</td>\n",
              "      <td>50</td>\n",
              "      <td>5000000</td>\n",
              "    </tr>\n",
              "  </tbody>\n",
              "</table>\n",
              "</div>\n",
              "    <div class=\"colab-df-buttons\">\n",
              "\n",
              "  <div class=\"colab-df-container\">\n",
              "    <button class=\"colab-df-convert\" onclick=\"convertToInteractive('df-4faa8ca1-1a2f-491e-b3c0-d7585081fcd4')\"\n",
              "            title=\"Convert this dataframe to an interactive table.\"\n",
              "            style=\"display:none;\">\n",
              "\n",
              "  <svg xmlns=\"http://www.w3.org/2000/svg\" height=\"24px\" viewBox=\"0 -960 960 960\">\n",
              "    <path d=\"M120-120v-720h720v720H120Zm60-500h600v-160H180v160Zm220 220h160v-160H400v160Zm0 220h160v-160H400v160ZM180-400h160v-160H180v160Zm440 0h160v-160H620v160ZM180-180h160v-160H180v160Zm440 0h160v-160H620v160Z\"/>\n",
              "  </svg>\n",
              "    </button>\n",
              "\n",
              "  <style>\n",
              "    .colab-df-container {\n",
              "      display:flex;\n",
              "      gap: 12px;\n",
              "    }\n",
              "\n",
              "    .colab-df-convert {\n",
              "      background-color: #E8F0FE;\n",
              "      border: none;\n",
              "      border-radius: 50%;\n",
              "      cursor: pointer;\n",
              "      display: none;\n",
              "      fill: #1967D2;\n",
              "      height: 32px;\n",
              "      padding: 0 0 0 0;\n",
              "      width: 32px;\n",
              "    }\n",
              "\n",
              "    .colab-df-convert:hover {\n",
              "      background-color: #E2EBFA;\n",
              "      box-shadow: 0px 1px 2px rgba(60, 64, 67, 0.3), 0px 1px 3px 1px rgba(60, 64, 67, 0.15);\n",
              "      fill: #174EA6;\n",
              "    }\n",
              "\n",
              "    .colab-df-buttons div {\n",
              "      margin-bottom: 4px;\n",
              "    }\n",
              "\n",
              "    [theme=dark] .colab-df-convert {\n",
              "      background-color: #3B4455;\n",
              "      fill: #D2E3FC;\n",
              "    }\n",
              "\n",
              "    [theme=dark] .colab-df-convert:hover {\n",
              "      background-color: #434B5C;\n",
              "      box-shadow: 0px 1px 3px 1px rgba(0, 0, 0, 0.15);\n",
              "      filter: drop-shadow(0px 1px 2px rgba(0, 0, 0, 0.3));\n",
              "      fill: #FFFFFF;\n",
              "    }\n",
              "  </style>\n",
              "\n",
              "    <script>\n",
              "      const buttonEl =\n",
              "        document.querySelector('#df-4faa8ca1-1a2f-491e-b3c0-d7585081fcd4 button.colab-df-convert');\n",
              "      buttonEl.style.display =\n",
              "        google.colab.kernel.accessAllowed ? 'block' : 'none';\n",
              "\n",
              "      async function convertToInteractive(key) {\n",
              "        const element = document.querySelector('#df-4faa8ca1-1a2f-491e-b3c0-d7585081fcd4');\n",
              "        const dataTable =\n",
              "          await google.colab.kernel.invokeFunction('convertToInteractive',\n",
              "                                                    [key], {});\n",
              "        if (!dataTable) return;\n",
              "\n",
              "        const docLinkHtml = 'Like what you see? Visit the ' +\n",
              "          '<a target=\"_blank\" href=https://colab.research.google.com/notebooks/data_table.ipynb>data table notebook</a>'\n",
              "          + ' to learn more about interactive tables.';\n",
              "        element.innerHTML = '';\n",
              "        dataTable['output_type'] = 'display_data';\n",
              "        await google.colab.output.renderOutput(dataTable, element);\n",
              "        const docLink = document.createElement('div');\n",
              "        docLink.innerHTML = docLinkHtml;\n",
              "        element.appendChild(docLink);\n",
              "      }\n",
              "    </script>\n",
              "  </div>\n",
              "\n",
              "\n",
              "<div id=\"df-661a1e0f-7c14-4e7e-8b65-ed408e29cc64\">\n",
              "  <button class=\"colab-df-quickchart\" onclick=\"quickchart('df-661a1e0f-7c14-4e7e-8b65-ed408e29cc64')\"\n",
              "            title=\"Suggest charts\"\n",
              "            style=\"display:none;\">\n",
              "\n",
              "<svg xmlns=\"http://www.w3.org/2000/svg\" height=\"24px\"viewBox=\"0 0 24 24\"\n",
              "     width=\"24px\">\n",
              "    <g>\n",
              "        <path d=\"M19 3H5c-1.1 0-2 .9-2 2v14c0 1.1.9 2 2 2h14c1.1 0 2-.9 2-2V5c0-1.1-.9-2-2-2zM9 17H7v-7h2v7zm4 0h-2V7h2v10zm4 0h-2v-4h2v4z\"/>\n",
              "    </g>\n",
              "</svg>\n",
              "  </button>\n",
              "\n",
              "<style>\n",
              "  .colab-df-quickchart {\n",
              "      --bg-color: #E8F0FE;\n",
              "      --fill-color: #1967D2;\n",
              "      --hover-bg-color: #E2EBFA;\n",
              "      --hover-fill-color: #174EA6;\n",
              "      --disabled-fill-color: #AAA;\n",
              "      --disabled-bg-color: #DDD;\n",
              "  }\n",
              "\n",
              "  [theme=dark] .colab-df-quickchart {\n",
              "      --bg-color: #3B4455;\n",
              "      --fill-color: #D2E3FC;\n",
              "      --hover-bg-color: #434B5C;\n",
              "      --hover-fill-color: #FFFFFF;\n",
              "      --disabled-bg-color: #3B4455;\n",
              "      --disabled-fill-color: #666;\n",
              "  }\n",
              "\n",
              "  .colab-df-quickchart {\n",
              "    background-color: var(--bg-color);\n",
              "    border: none;\n",
              "    border-radius: 50%;\n",
              "    cursor: pointer;\n",
              "    display: none;\n",
              "    fill: var(--fill-color);\n",
              "    height: 32px;\n",
              "    padding: 0;\n",
              "    width: 32px;\n",
              "  }\n",
              "\n",
              "  .colab-df-quickchart:hover {\n",
              "    background-color: var(--hover-bg-color);\n",
              "    box-shadow: 0 1px 2px rgba(60, 64, 67, 0.3), 0 1px 3px 1px rgba(60, 64, 67, 0.15);\n",
              "    fill: var(--button-hover-fill-color);\n",
              "  }\n",
              "\n",
              "  .colab-df-quickchart-complete:disabled,\n",
              "  .colab-df-quickchart-complete:disabled:hover {\n",
              "    background-color: var(--disabled-bg-color);\n",
              "    fill: var(--disabled-fill-color);\n",
              "    box-shadow: none;\n",
              "  }\n",
              "\n",
              "  .colab-df-spinner {\n",
              "    border: 2px solid var(--fill-color);\n",
              "    border-color: transparent;\n",
              "    border-bottom-color: var(--fill-color);\n",
              "    animation:\n",
              "      spin 1s steps(1) infinite;\n",
              "  }\n",
              "\n",
              "  @keyframes spin {\n",
              "    0% {\n",
              "      border-color: transparent;\n",
              "      border-bottom-color: var(--fill-color);\n",
              "      border-left-color: var(--fill-color);\n",
              "    }\n",
              "    20% {\n",
              "      border-color: transparent;\n",
              "      border-left-color: var(--fill-color);\n",
              "      border-top-color: var(--fill-color);\n",
              "    }\n",
              "    30% {\n",
              "      border-color: transparent;\n",
              "      border-left-color: var(--fill-color);\n",
              "      border-top-color: var(--fill-color);\n",
              "      border-right-color: var(--fill-color);\n",
              "    }\n",
              "    40% {\n",
              "      border-color: transparent;\n",
              "      border-right-color: var(--fill-color);\n",
              "      border-top-color: var(--fill-color);\n",
              "    }\n",
              "    60% {\n",
              "      border-color: transparent;\n",
              "      border-right-color: var(--fill-color);\n",
              "    }\n",
              "    80% {\n",
              "      border-color: transparent;\n",
              "      border-right-color: var(--fill-color);\n",
              "      border-bottom-color: var(--fill-color);\n",
              "    }\n",
              "    90% {\n",
              "      border-color: transparent;\n",
              "      border-bottom-color: var(--fill-color);\n",
              "    }\n",
              "  }\n",
              "</style>\n",
              "\n",
              "  <script>\n",
              "    async function quickchart(key) {\n",
              "      const quickchartButtonEl =\n",
              "        document.querySelector('#' + key + ' button');\n",
              "      quickchartButtonEl.disabled = true;  // To prevent multiple clicks.\n",
              "      quickchartButtonEl.classList.add('colab-df-spinner');\n",
              "      try {\n",
              "        const charts = await google.colab.kernel.invokeFunction(\n",
              "            'suggestCharts', [key], {});\n",
              "      } catch (error) {\n",
              "        console.error('Error during call to suggestCharts:', error);\n",
              "      }\n",
              "      quickchartButtonEl.classList.remove('colab-df-spinner');\n",
              "      quickchartButtonEl.classList.add('colab-df-quickchart-complete');\n",
              "    }\n",
              "    (() => {\n",
              "      let quickchartButtonEl =\n",
              "        document.querySelector('#df-661a1e0f-7c14-4e7e-8b65-ed408e29cc64 button');\n",
              "      quickchartButtonEl.style.display =\n",
              "        google.colab.kernel.accessAllowed ? 'block' : 'none';\n",
              "    })();\n",
              "  </script>\n",
              "</div>\n",
              "\n",
              "    </div>\n",
              "  </div>\n"
            ],
            "application/vnd.google.colaboratory.intrinsic+json": {
              "type": "dataframe",
              "summary": "{\n  \"name\": \"pd\",\n  \"rows\": 5,\n  \"fields\": [\n    {\n      \"column\": \"Kode\",\n      \"properties\": {\n        \"dtype\": \"number\",\n        \"std\": 158,\n        \"min\": 100,\n        \"max\": 500,\n        \"num_unique_values\": 5,\n        \"samples\": [\n          200,\n          500,\n          300\n        ],\n        \"semantic_type\": \"\",\n        \"description\": \"\"\n      }\n    },\n    {\n      \"column\": \"Nama\",\n      \"properties\": {\n        \"dtype\": \"string\",\n        \"num_unique_values\": 5,\n        \"samples\": [\n          \"Beni\",\n          \"Edi\",\n          \"Cinta\"\n        ],\n        \"semantic_type\": \"\",\n        \"description\": \"\"\n      }\n    },\n    {\n      \"column\": \"Usia\",\n      \"properties\": {\n        \"dtype\": \"number\",\n        \"std\": 12,\n        \"min\": 20,\n        \"max\": 50,\n        \"num_unique_values\": 5,\n        \"samples\": [\n          20,\n          50,\n          30\n        ],\n        \"semantic_type\": \"\",\n        \"description\": \"\"\n      }\n    },\n    {\n      \"column\": \"Gaji\",\n      \"properties\": {\n        \"dtype\": \"number\",\n        \"std\": 1581138,\n        \"min\": 1000000,\n        \"max\": 5000000,\n        \"num_unique_values\": 5,\n        \"samples\": [\n          2000000,\n          5000000,\n          3000000\n        ],\n        \"semantic_type\": \"\",\n        \"description\": \"\"\n      }\n    }\n  ]\n}"
            }
          },
          "metadata": {},
          "execution_count": 129
        }
      ]
    },
    {
      "cell_type": "markdown",
      "metadata": {
        "id": "X2wP6M-0e2t9"
      },
      "source": [
        "---"
      ]
    }
  ],
  "metadata": {
    "colab": {
      "provenance": []
    },
    "kernelspec": {
      "display_name": "Python 3",
      "name": "python3"
    },
    "language_info": {
      "name": "python"
    }
  },
  "nbformat": 4,
  "nbformat_minor": 0
}